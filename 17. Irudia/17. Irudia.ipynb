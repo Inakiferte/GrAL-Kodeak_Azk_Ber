{
 "cells": [
  {
   "cell_type": "markdown",
   "metadata": {},
   "source": [
    "FS eredua dugu kasu honetan.\n",
    "\n",
    "Erabiliko diren moduloak inportatu:"
   ]
  },
  {
   "cell_type": "code",
   "execution_count": 1,
   "metadata": {},
   "outputs": [],
   "source": [
    "import math\n",
    "import matplotlib.pyplot as plt\n",
    "import numpy as np\n",
    "import matplotlib.gridspec as gridspec\n",
    "import matplotlib.patches as mpatches"
   ]
  },
  {
   "cell_type": "markdown",
   "metadata": {},
   "source": [
    "Erabiliko diren aldagaien laburbilduma\n",
    "\n",
    "|Aldagaia|Definizioa|Unitatea|\n",
    "|--------|-----------|-------|\n",
    "|$t_{max}$ |Simulazioa denbora maximoa|$ms$|\n",
    "|$\\Delta t$|Denboraren diskretizazioa |$ms$|\n",
    "|$C_{m}$   |Mintz kapazitatea         |$\\frac{\\mu F}{cm^{2}}$|\n",
    "|$E_{Na}$  |Inbertsio potentziala, sodio kanaletarako|$mV$|\n",
    "|$E_{K}$   |Inbertsio potentziala, potasio kanaletarako|$mV$|\n",
    "|$E_{L}$   |Inbertsi potentziala|$mV$|\n",
    "|$g_{Na}$  |Konduktantzia espezifikoa, sodio korronte azkarrerako|$\\frac{mS}{cm^{2}}$|\n",
    "|$g_{K}$   |Konduktantzia espezifikoa, potasio korronte iraukorrerako|$\\frac{mS}{cm^{2}}$|\n",
    "|$g_{L}$   |Konduktantzia espezifikoa|$\\frac{mS}{cm^{2}}$|\n",
    "|$i_{mean}$|Batez-besteko intentsitate bat finkatu|$\\frac{\\mu A}{cm^{2}}$|\n",
    "|$V_{rest}$|Egoera egonkorreko mintz potentziala|$mV$|\n",
    "|$V_{Th}$|Atari potentziala|$mV$|"
   ]
  },
  {
   "cell_type": "code",
   "execution_count": 2,
   "metadata": {},
   "outputs": [],
   "source": [
    "#Parametroak finkatu#####\n",
    "t_max=400      # ms\n",
    "delta_t=0.005  # ms\n",
    "C_m=3.12       # micro F/cm^2 (c_m/(L*d)=C_m)\n",
    "E_Na=50.00     # mV\n",
    "E_K=-90.00     # mV\n",
    "E_L=-70.00     # mV\n",
    "g_Na=50.0      # mS/cm^2\n",
    "g_K=10.0        # mS/cm^2\n",
    "g_L=0.15        # mS/cm^2\n",
    "i_mean=10.0    # microA/cm^2\n",
    "V_rest=-65.0   # mV\n",
    "v_th=-40.0     # mV\n",
    "##########################"
   ]
  },
  {
   "cell_type": "markdown",
   "metadata": {},
   "source": [
    "### Funtzio laguntzaileen inplementazioa\n",
    "\n",
    "$$\\alpha_{m}=\\frac{-0.32(v-v_{Th}-13)}{\\exp [-(v-v_{Th}-13)/4]-1}$$\n",
    "\n",
    "$$\\beta_{m}=\\frac{0.28(v-v_{Th}-40)}{\\exp [(v-v_{Th}-40)/5]-1}$$\n",
    "\n",
    "$$\\alpha_{h}=0.128\\exp [-(v-v_{Th}-17)/18]$$\n",
    "\n",
    "$$\\beta_{h}=\\frac{4}{1+ exp[-(v-v_{Th}-40)/5]}$$\n",
    "\n",
    "$$\\alpha_{n}=\\frac{-0.032(v-v_{Th}-15)}{\\exp [-(v-v_{Th}-15)/5]-1}$$\n",
    "\n",
    "$$\\beta_{n}=0.5 \\exp[-(v-v_{Th}-10)/40]$$"
   ]
  },
  {
   "cell_type": "code",
   "execution_count": 3,
   "metadata": {},
   "outputs": [],
   "source": [
    "def alpha_m(v):\n",
    "    return -0.32 * (v - v_th - 13.0) / (np.exp(-(v - v_th - 13.0) / 4.0) - 1.0)\n",
    "\n",
    "def beta_m(v):\n",
    "    return 0.28 * (v - v_th - 40.0) / (np.exp((v - v_th - 40.0) / 5.0) - 1.0)\n",
    "\n",
    "def alpha_h(v):\n",
    "    return 0.128 * np.exp(-(v - v_th - 17.0)/18.0)\n",
    "\n",
    "def beta_h(v):\n",
    "    return 4.0 / (1.0 + np.exp(-(v - v_th - 40.0) / 5.0))\n",
    "\n",
    "def alpha_n(v):\n",
    "    return -0.032 * (v - v_th - 15.0) / (np.exp(-(v - v_th - 15.0) / 5.0) - 1.0)\n",
    "\n",
    "def beta_n(v):\n",
    "    return 0.5 * np.exp(-(v - v_th - 10.0) / 40.0)"
   ]
  },
  {
   "cell_type": "markdown",
   "metadata": {},
   "source": [
    "### Bektoreak eta hasierako balioak finkatu"
   ]
  },
  {
   "cell_type": "code",
   "execution_count": 4,
   "metadata": {},
   "outputs": [],
   "source": [
    "#Denbora eremu osoa finkatzen dugu. 0 s-tik hasiz, delta_t diskretizazio denbora aldiunez t_max aldiunerarte\n",
    "t_eremua=np.arange(0,t_max,delta_t)\n",
    "#Luzera finkatu\n",
    "step=len(t_eremua)\n",
    "\n",
    "#Vt bektorea finkatu\n",
    "Vt=np.ones([step])\n",
    "Vt_0=np.ones([step])\n",
    "Vt_1=np.ones([step])\n",
    "Vt_2=np.ones([step])\n",
    "\n",
    "#Fase espaziorako bektoreaa finkatu\n",
    "V_dot=np.ones([step])\n",
    "V_dot_0=np.ones([step])\n",
    "V_dot_1=np.ones([step])\n",
    "V_dot_2=np.ones([step])\n",
    "\n",
    "#nt, mt, ht bektoreak finkatu\n",
    "nt=np.ones([step])\n",
    "mt=np.ones([step])\n",
    "ht=np.ones([step])\n",
    "pt=np.ones([step])\n",
    "\n",
    "#Fase espaziorako bektoreak finkatu\n",
    "n_dot=np.ones([step])\n",
    "m_dot=np.ones([step])\n",
    "h_dot=np.ones([step])\n",
    "p_dot=np.ones([step])"
   ]
  },
  {
   "cell_type": "markdown",
   "metadata": {},
   "source": [
    "### Gobernu ekuazioen ebazpena\n",
    "\n",
    "Euler-en aurrerazko formula erabiliz diskretizazioa denboran egiteko:\n",
    "\n",
    "$$v^{i+1}=v^{i}+\\frac{\\Delta t}{C_{m}}[I^{i}-\\overline{g_{Na}}(m^{3})^{i}h^{i}(v^{i}-E_{Na})-\\overline{g_{K}}(n^{4})^{i}(v^{i}-E_{K})-\\overline{g_{L}}(v^{i}-E_{L})]$$\n",
    "\n",
    "$$n^{i+1}=n^{i}+\\Delta t[\\alpha_{n}(v^{i})(1-n^{i})-\\beta_{n}(v^{i})n^{i}]$$\n",
    "\n",
    "$$m^{i+1}=m^{i}+\\Delta t[\\alpha_{m}(v^{i})(1-m^{i})-\\beta_{m}(v^{i})m^{i}]$$\n",
    "\n",
    "$$h^{i+1}=h^{i}+\\Delta t[\\alpha_{h}(v^{i})(1-h^{i})-\\beta_{h}(v^{i})h^{i}]$$\n",
    "\n",
    "Kasu honetan estrategia pixkat desberdina erabiliko da. for batekin FS ereduko gobernu ekuazioetarako 3 ebazpen egingo ditugu. Bakoitzean i_mean + k*1.0 intentsitatea handitzen joango da. Hau hiru bektoreen bidez gordeko da, bai espazio errealean zein fase espazioan. Vt_0,1,2 eta V_dot_1,2,3. Hala ere kode honetan k=1, 2 kasuak bakarrik irudikatuko dira."
   ]
  },
  {
   "cell_type": "code",
   "execution_count": 5,
   "metadata": {},
   "outputs": [],
   "source": [
    "for k in range (0,3):\n",
    "    #Hasierako balioak finkatu#\n",
    "    Vt[0]=V_rest\n",
    "    nt[0]=alpha_n(V_rest) / (alpha_n(V_rest) + beta_n(V_rest))\n",
    "    mt[0]=alpha_m(V_rest) / (alpha_m(V_rest) + beta_m(V_rest))\n",
    "    ht[0]=alpha_h(V_rest) / (alpha_h(V_rest) + beta_h(V_rest))\n",
    "    I=i_mean + k*1.0\n",
    "    for i in range(0, step-1) :\n",
    "        mt[i + 1] = mt[i] + delta_t * (alpha_m(Vt[i]) * (1 - mt[i]) - beta_m(Vt[i]) * mt[i])\n",
    "        ht[i + 1] = ht[i] + delta_t * (alpha_h(Vt[i]) * (1 - ht[i]) - beta_h(Vt[i]) * ht[i])\n",
    "        nt[i + 1] = nt[i] + delta_t * (alpha_n(Vt[i]) * (1 - nt[i]) - beta_n(Vt[i]) * nt[i])\n",
    "        Vt[i + 1] = Vt[i] + (delta_t/C_m) * (I-g_Na * mt[i] ** 3 * ht[i] * (Vt[i]-E_Na) - g_K * nt[i] ** 4 * (Vt[i]-E_K) - g_L * (Vt[i]-E_L)) \n",
    "\n",
    "    #Hasierako egoerak\n",
    "    V_dot[0]= (Vt[1] - Vt[0]) / delta_t \n",
    "    n_dot[0]= (nt[1] - nt[0]) / delta_t\n",
    "    m_dot[0]= (mt[1] - mt[0]) / delta_t\n",
    "    h_dot[0]= (ht[1] - ht[0]) / delta_t\n",
    "    p_dot[0]= (pt[1] - pt[0]) / delta_t\n",
    "\n",
    "    #Gainontzeko aldiuneak\n",
    "    for i in range (0,step-1):\n",
    "        V_dot[i+1]= (Vt[i+1] - Vt[i]) / delta_t\n",
    "        n_dot[i+1]= (nt[i+1] - nt[i]) / delta_t\n",
    "        m_dot[i+1]= (mt[i+1] - mt[i]) / delta_t\n",
    "        h_dot[i+1]= (ht[i+1] - ht[i]) / delta_t\n",
    "        p_dot[i+1]= (pt[i+1] - pt[i]) / delta_t\n",
    "    if k==0:\n",
    "        for i in range (0,step):\n",
    "            V_dot_0[i]=V_dot[i]\n",
    "            Vt_0[i]=Vt[i]\n",
    "            \n",
    "            \n",
    "    if k==1:\n",
    "        for i in range(0,step):\n",
    "            V_dot_1[i]=V_dot[i]\n",
    "            Vt_1[i]=Vt[i]\n",
    "            \n",
    "            \n",
    "    if k==2:\n",
    "        for i in range(0,step):\n",
    "            V_dot_2[i]=V_dot[i]\n",
    "            Vt_2[i]=Vt[i]"
   ]
  },
  {
   "cell_type": "markdown",
   "metadata": {},
   "source": [
    "Ploteatu:"
   ]
  },
  {
   "cell_type": "code",
   "execution_count": 6,
   "metadata": {
    "scrolled": true
   },
   "outputs": [
    {
     "data": {
      "text/plain": [
       "<Figure size 432x288 with 0 Axes>"
      ]
     },
     "metadata": {},
     "output_type": "display_data"
    },
    {
     "data": {
      "image/png": "[encoded data removed]",
      "text/plain": [
       "<Figure size 792x576 with 2 Axes>"
      ]
     },
     "metadata": {
      "needs_background": "light"
     },
     "output_type": "display_data"
    }
   ],
   "source": [
    "#################################  ### 00 ###\n",
    "\n",
    "plt.rc('text', usetex=True)\n",
    "\n",
    "#################################\n",
    "\n",
    "fig = plt.figure()\n",
    "\n",
    "#################################  ### 01 ###\n",
    "fontsize = 25\n",
    "labelsize = 20\n",
    "#################################\n",
    "\n",
    "fig, ax2 = plt.subplots(figsize=(11, 8))\n",
    "ax2 = plt.subplot(221)\n",
    "ax2.set_xlim(0,20)\n",
    "ax2.set_ylim(160,220)\n",
    "ax2.plot(Vt_1, V_dot_1, 'g', label=r'$i_{e}=11.0$')\n",
    "ax2.set_xlabel(r'$V_{m} \\textrm{ (mV)}$',fontsize=fontsize)\n",
    "ax2.set_ylabel(r'$\\dot{V_{m}} \\textrm{ (mV/ms)}$',fontsize=fontsize)\n",
    "#fig, ax2.set_title(r'$\\textrm{Mintz-potentziala} \\quad \\textrm{Fase-Espazioan}$',fontsize=fontsize)\n",
    "ax2.legend(bbox_transform=ax2.transData, bbox_to_anchor=(20, 218), ncol=1, borderaxespad=0, \n",
    "             frameon=False, fontsize=15)\n",
    "\n",
    "fig.text(10, 230.0, r'\\textrm{Mintz-Potentziala Fase-espazioan}', size=25, va='center', transform=ax2.transData);\n",
    "\n",
    "\n",
    "ax3 = plt.subplot(222)\n",
    "ax3.set_xlim(0,20)\n",
    "ax3.set_ylim(160,220)\n",
    "ax3.plot(Vt_2, V_dot_2, 'r',label=r'$i_{e}=12.0$')\n",
    "ax3.set_xlabel(r'$V_{m} \\textrm{ (mV)}$',fontsize=fontsize)\n",
    "#ax3.set_ylabel('$\\dot{Vm}$ (mV/ms)',fontsize=15)\n",
    "#fig, ax3.set_title(r'$\\textrm{Mintz-potentziala} \\quad \\textrm{Fase-Espazioan}$',fontsize=fontsize)\n",
    "ax3.legend(bbox_transform=ax3.transData, bbox_to_anchor=(20, 218), ncol=1, borderaxespad=0, \n",
    "             frameon=False, fontsize=15)\n",
    "\n",
    "######################################  ### 04 ###\n",
    "axes_fig = [ax2,ax3] # irudiak dazkanaren arabera\n",
    "\n",
    "for i in axes_fig:\n",
    "    i.tick_params(axis='y', labelsize=labelsize, pad=5, length=10);\n",
    "    i.tick_params(axis='x', labelsize=labelsize, pad=5, length=10);\n",
    "\n",
    "plt.savefig('FS_Eredua_Fase_Espazioa_2.pdf', format='pdf', dpi=180,bbox_inches=\"tight\")"
   ]
  },
  {
   "cell_type": "code",
   "execution_count": null,
   "metadata": {},
   "outputs": [],
   "source": []
  }
 ],
 "metadata": {
  "kernelspec": {
   "display_name": "Python 3",
   "language": "python",
   "name": "python3"
  },
  "language_info": {
   "codemirror_mode": {
    "name": "ipython",
    "version": 3
   },
   "file_extension": ".py",
   "mimetype": "text/x-python",
   "name": "python",
   "nbconvert_exporter": "python",
   "pygments_lexer": "ipython3",
   "version": "3.8.3"
  }
 },
 "nbformat": 4,
 "nbformat_minor": 5
}
