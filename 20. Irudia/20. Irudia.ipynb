{
 "cells": [
  {
   "cell_type": "markdown",
   "metadata": {},
   "source": [
    "Hemen RS eta IB neuronaren ebazpenak erabiliko dira.\n",
    "\n",
    "Erabilitako moduloak:"
   ]
  },
  {
   "cell_type": "code",
   "execution_count": 1,
   "metadata": {},
   "outputs": [],
   "source": [
    "import math\n",
    "import matplotlib.pyplot as plt\n",
    "import numpy as np\n",
    "import matplotlib.gridspec as gridspec"
   ]
  },
  {
   "cell_type": "markdown",
   "metadata": {},
   "source": [
    "Erabilitako aldagaien laburbilduma:\n",
    "\n",
    "|Aldagaia|Definizioa|Unitatea|\n",
    "|--------|-----------|-------|\n",
    "|$t_{max}$ |Simulazioa denbora maximoa|$ms$|\n",
    "|$\\Delta t$|Denboraren diskretizazioa |$ms$|\n",
    "|$\\tau_{max}$ |Parametro esperimentala|$s$|\n",
    "|$C_{m}$   |Mintz kapazitatea         |$\\frac{\\mu F}{cm^{2}}$|\n",
    "|$E_{Na}$  |Inbertsio potentziala, sodio kanaletarako|$mV$|\n",
    "|$E_{K}$   |Inbertsio potentziala, potasio kanaletarako|$mV$|\n",
    "|$E_{L}$   |Inbertsi potentziala|$mV$|\n",
    "|$E_{Ca}$   |Inbertsi potentziala, kaltzio kanaletarako|$mV$|\n",
    "|$g_{Na}$  |Konduktantzia espezifikoa, sodio korronte azkarrerako|$\\frac{mS}{cm^{2}}$|\n",
    "|$g_{K}$   |Konduktantzia espezifikoa, potasio korronte iraukorrerako|$\\frac{mS}{cm^{2}}$|\n",
    "|$g_{M}$   |Konduktantzia espezifikoa, potasio korronte geldorako|$\\frac{mS}{cm^{2}}$|\n",
    "|$g_{L}$   |Konduktantzia espezifikoa|$\\frac{mS}{cm^{2}}$|\n",
    "|$g_{Ca}$   |Konduktantzia espezifikoa, kaltzio korronte leherketarako|$\\frac{mS}{cm^{2}}$|\n",
    "|$i_{mean}$|Batez-besteko intentsitate bat finkatu|$\\frac{\\mu A}{cm^{2}}$|\n",
    "|$V_{rest}$|Egoera egonkorreko mintz potentziala|$mV$|\n",
    "|$V_{Th}$|Atari potentziala|$mV$|"
   ]
  },
  {
   "cell_type": "code",
   "execution_count": 2,
   "metadata": {},
   "outputs": [],
   "source": [
    "#Parametroak finkatu#####\n",
    "t_max=100      # ms\n",
    "delta_t=0.04   # ms\n",
    "tau_max=500.0  # s\n",
    "C_m=3.14       # micro F/cm^2 (c_m/(L*d)=C_m)\n",
    "E_Na=50.00     # mV\n",
    "E_K=-90.00     # mV\n",
    "E_L=-70.00     # mV\n",
    "E_Ca=120.0     # mV\n",
    "g_Na=50.0      # mS/cm^2\n",
    "g_K=5.0        # mS/cm^2\n",
    "g_M=0.07       # mS/cm^2\n",
    "g_L=0.1        # mS/cm^2\n",
    "g_Ca=0.1       # mS/cm^2  \n",
    "i_mean=0.5     # microA/cm^2\n",
    "V_rest=-65.0   # mV\n",
    "v_th=-40.0     # mV"
   ]
  },
  {
   "cell_type": "markdown",
   "metadata": {},
   "source": [
    "### Funtzio laguntzaileen inplementazioa\n",
    "\n",
    "$$\\alpha_{m}=\\frac{-0.32(v-v_{Th}-13)}{\\exp [-(v-v_{Th}-13)/4]-1}$$\n",
    "\n",
    "$$\\beta_{m}=\\frac{0.28(v-v_{Th}-40)}{\\exp [(v-v_{Th}-40)/5]-1}$$\n",
    "\n",
    "$$\\alpha_{h}=0.128\\exp [-(v-v_{Th}-17)/18]$$\n",
    "\n",
    "$$\\beta_{h}=\\frac{4}{1+ exp[-(v-v_{Th}-40)/5]}$$\n",
    "\n",
    "$$\\alpha_{n}=\\frac{-0.032(v-v_{Th}-15)}{\\exp [-(v-v_{Th}-15)/5]-1}$$\n",
    "\n",
    "$$\\beta_{n}=0.5 \\exp[-(v-v_{Th}-10)/40]$$\n",
    "\n",
    "$$p_{\\infty}(v)=\\frac{1}{1+\\exp[-(v+35)/10]}$$\n",
    "\n",
    "$$\\tau_{p}(v)=\\frac{\\tau_{max}}{3.3\\exp[(v+35)/20]+\\exp[-(v+35)/20]}$$\n",
    "\n",
    "$$\\alpha_{q}=\\frac{0.055(-27-v)}{\\exp [(-27-v)/3.9]-1}$$\n",
    "\n",
    "$$\\beta_{q}=0.94 \\exp[(-75-v)/17]$$\n",
    "\n",
    "$$\\alpha_{r}=0.000457 \\exp[(-13-v)/50]$$\n",
    "\n",
    "$$\\beta_{r}=\\frac{0.0065}{1+ exp[(-15-v)/28]}$$"
   ]
  },
  {
   "cell_type": "code",
   "execution_count": 3,
   "metadata": {},
   "outputs": [],
   "source": [
    "def alpha_m(v):\n",
    "    return -0.32 * (v - v_th - 13.0) / (np.exp(-(v - v_th - 13.0) / 4.0) - 1.0)\n",
    "\n",
    "def beta_m(v):\n",
    "    return 0.28 * (v - v_th - 40.0) / (np.exp((v - v_th - 40.0) / 5.0) - 1.0)\n",
    "\n",
    "def alpha_h(v):\n",
    "    return 0.128 * np.exp(-(v - v_th - 17.0)/18.0)\n",
    "\n",
    "def beta_h(v):\n",
    "    return 4.0 / (1.0 + np.exp(-(v - v_th - 40.0) / 5.0))\n",
    "\n",
    "def alpha_n(v):\n",
    "    return -0.032 * (v - v_th - 15.0) / (np.exp(-(v - v_th - 15.0) / 5.0) - 1.0)\n",
    "\n",
    "def beta_n(v):\n",
    "    return 0.5 * np.exp(-(v - v_th - 10.0) / 40.0)\n",
    "\n",
    "def p_infty(v):\n",
    "    return 1.0 / (1.0 + np.exp(-(v + 35.0) / 10.0))\n",
    "\n",
    "def tau_p(v):\n",
    "    return tau_max / (3.3 * np.exp((v + 35.0) / 20.0) + np.exp(-(v + 35.0) / 20.0))\n",
    "\n",
    "def alpha_q(v):\n",
    "    return 0.055 * (-27.0 - v) / (np.exp((-27.0 - v) / 3.8) - 1.0)\n",
    "\n",
    "def beta_q(v):\n",
    "    return 0.94 * np.exp((-75.0 - v) / 17.0)\n",
    "\n",
    "def alpha_r(v):\n",
    "    return 0.000457 * np.exp((-13.0 - v) / 50.0)\n",
    "\n",
    "def beta_r(v):\n",
    "    return 0.0065 / (np.exp((-15.0 - v) / 28.0) + 1.0)"
   ]
  },
  {
   "cell_type": "markdown",
   "metadata": {},
   "source": [
    "### Bektoreak eta hasierako balioak finkatu"
   ]
  },
  {
   "cell_type": "code",
   "execution_count": 4,
   "metadata": {},
   "outputs": [],
   "source": [
    "#Denbora eremu osoa finkatzen dugu. 0 s-tik hasiz, delta_t diskretizazio denbora aldiunez t_max aldiunerarte\n",
    "t_eremua=np.arange(0,t_max,delta_t)\n",
    "#Luzera finkatu\n",
    "step=len(t_eremua)\n",
    "\n",
    "#RS neuronarentzat\n",
    "Vt_RS=np.ones([step])\n",
    "\n",
    "#IB neuronarentzat\n",
    "Vt_IB=np.ones([step])\n",
    "\n",
    "#RS neuronarentzat\n",
    "nt_RS=np.ones([step])\n",
    "mt_RS=np.ones([step])\n",
    "ht_RS=np.ones([step])\n",
    "pt_RS=np.ones([step])\n",
    "\n",
    "#IB neuronarentzat\n",
    "nt_IB=np.ones([step])\n",
    "mt_IB=np.ones([step])\n",
    "ht_IB=np.ones([step])\n",
    "pt_IB=np.ones([step])\n",
    "qt=np.ones([step])\n",
    "rt=np.ones([step])"
   ]
  },
  {
   "cell_type": "markdown",
   "metadata": {},
   "source": [
    "Haisierako egoerak finkatu aldagai dinamiko guztientzat. Bai RS neuronarako zein IB neuronarako. Intuitiboa den moduan, RS atzizkia RS neuronaren ebazpenerako erabiliko diren objetuak dira. IB atzizkikoak berriz, IB neuronarako."
   ]
  },
  {
   "cell_type": "code",
   "execution_count": 5,
   "metadata": {},
   "outputs": [],
   "source": [
    "#RS nuronarentzat\n",
    "Vt_RS[0]=V_rest\n",
    "nt_RS[0]= alpha_n(V_rest) / (alpha_n(V_rest) + beta_n(V_rest))\n",
    "mt_RS[0]= alpha_m(V_rest) / (alpha_m(V_rest) + beta_m(V_rest))\n",
    "ht_RS[0]= alpha_h(V_rest) / (alpha_h(V_rest) + beta_h(V_rest))\n",
    "pt_RS[0]= p_infty(V_rest)\n",
    "\n",
    "#IB neuronarentzat\n",
    "Vt_IB[0]=V_rest\n",
    "nt_IB[0]= alpha_n(V_rest) / (alpha_n(V_rest) + beta_n(V_rest))\n",
    "mt_IB[0]= alpha_m(V_rest) / (alpha_m(V_rest) + beta_m(V_rest))\n",
    "ht_IB[0]= alpha_h(V_rest) / (alpha_h(V_rest) + beta_h(V_rest))\n",
    "pt_IB[0]= p_infty(V_rest)\n",
    "qt[0]= alpha_q(V_rest) / (alpha_q(V_rest) + beta_q(V_rest))\n",
    "rt[0]= alpha_r(V_rest) / (alpha_r(V_rest) + beta_r(V_rest))"
   ]
  },
  {
   "cell_type": "markdown",
   "metadata": {},
   "source": [
    "Neurona bakoitzerako bektore bat definituko da. Bektore honen barruko balio bakoitzak intentsitate jakin bakoitzerako zenbat ekintza potentzial gauzatu diren adieraziko digu."
   ]
  },
  {
   "cell_type": "code",
   "execution_count": 6,
   "metadata": {},
   "outputs": [],
   "source": [
    "#RS neuronarentzat\n",
    "Spike_Kont_RS=np.zeros([100]) #Bektoreko balio bakoitzean, intentsitate jakin bati dagokion spike kopurua gordeko da lehenengo 100 segundutan.\n",
    "\n",
    "#IB neuronanrentzat\n",
    "Spike_Kont_IB=np.zeros([100]) #Bektoreko balio bakoitzean, intentsitate jakin bati dagokion spike kopurua gordeko da lehenengo 100 segundutan."
   ]
  },
  {
   "cell_type": "markdown",
   "metadata": {},
   "source": [
    "11, 16 eta 20. Irudietan jarraitu den estrategia berdina jarraituko da hemen. Vt>0 bada spike-a eman da. kont izeneko integer bat erabiliko da intentsitate bakoitzerako zenbat ekintza potentzial gauzatu diren ikusteko."
   ]
  },
  {
   "cell_type": "markdown",
   "metadata": {},
   "source": [
    "Lehenik RS neuronarako:\n",
    "\n",
    "Euler-en aurrerazko formula erabiliz diskretizazioa denboran egiteko:\n",
    "\n",
    "$$v^{i+1}=v^{i}+\\frac{\\Delta t}{C_{m}}[I^{i}-\\overline{g_{Na}}(m^{3})^{i}h^{i}(v^{i}-E_{Na})-\\overline{g_{K}}(n^{4})^{i}(v^{i}-E_{K})-\\overline{g_{M}}p^{i}(v^{i}-E_{K})-\\overline{g_{L}}(v^{i}-E_{L})]$$\n",
    "\n",
    "$$n^{i+1}=n^{i}+\\Delta t[\\alpha_{n}(v^{i})(1-n^{i})-\\beta_{n}(v^{i})n^{i}]$$\n",
    "\n",
    "$$m^{i+1}=m^{i}+\\Delta t[\\alpha_{m}(v^{i})(1-m^{i})-\\beta_{m}(v^{i})m^{i}]$$\n",
    "\n",
    "$$h^{i+1}=h^{i}+\\Delta t[\\alpha_{h}(v^{i})(1-h^{i})-\\beta_{h}(v^{i})h^{i}]$$\n",
    "\n",
    "$$p^{i+1}=p^{i}+\\Delta t[\\frac{p_{\\infty}(v^{i})-p^{i}}{\\tau_{p}(v^{i})}]$$"
   ]
  },
  {
   "cell_type": "code",
   "execution_count": 7,
   "metadata": {},
   "outputs": [],
   "source": [
    "for k in range(0,100):\n",
    "    j=0\n",
    "    m=0\n",
    "    kont=0\n",
    "    I=i_mean + 0.1*k\n",
    "    for i in range(0, step-1) :\n",
    "        mt_RS[i + 1] = mt_RS[i] + delta_t * (alpha_m(Vt_RS[i]) * (1.0 - mt_RS[i]) - beta_m(Vt_RS[i]) * mt_RS[i])\n",
    "        ht_RS[i + 1] = ht_RS[i] + delta_t * (alpha_h(Vt_RS[i]) * (1.0 - ht_RS[i]) - beta_h(Vt_RS[i]) * ht_RS[i])\n",
    "        nt_RS[i + 1] = nt_RS[i] + delta_t * (alpha_n(Vt_RS[i]) * (1.0 - nt_RS[i]) - beta_n(Vt_RS[i]) * nt_RS[i])\n",
    "        pt_RS[i + 1] = pt_RS[i] + delta_t * ((p_infty(Vt_RS[i]) - pt_RS[i]) / tau_p(Vt_RS[i]))\n",
    "        Vt_RS[i + 1] = Vt_RS[i] + (delta_t/C_m) * (I-g_Na * mt_RS[i] ** 3 * ht_RS[i] * (Vt_RS[i]-E_Na) - g_K * nt_RS[i] ** 4 * (Vt_RS[i]-E_K)- g_M * pt_RS[i] * (Vt_RS[i] - E_K) - g_L * (Vt_RS[i]-E_L))\n",
    "    \n",
    "        #Fire-egiteko aldiunea kalkulatu\n",
    "        if Vt_RS[i+1]>=0.0 and m==0: # Fire egin duela zihurtatu.\n",
    "            kont=kont+1\n",
    "            m=1                   # m=1 bihurtu.\n",
    "\n",
    "        #spike-a-ren amaiera lortu eta parametroak ezarri\n",
    "        if Vt_RS[i+1]<0.0 and m==1:  # m parametroak berrezarri.\n",
    "            m=0                   # m=0 berrezarri.\n",
    "                                  #spike-a amaitu da, m parametroa hasierako egoerara eman\n",
    "    Spike_Kont_RS[k]=kont*1.0    "
   ]
  },
  {
   "cell_type": "markdown",
   "metadata": {},
   "source": [
    "Jarraian IB neuronarako: \n",
    "\n",
    "$$v^{i+1}=v^{i}+\\frac{\\Delta t}{C_{m}}[I^{i}-\\overline{g_{Na}}(m^{3})^{i}h^{i}(v^{i}-E_{Na})-\\overline{g_{K}}(n^{4})^{i}(v^{i}-E_{K})-\\overline{g_{M}}p^{i}(v^{i}-E_{K})-\\overline{g_{Ca}}(q^{2})^{i}r^{i}(v^{i}-E_{Ca})-\\overline{g_{L}}(v^{i}-E_{L})]$$\n",
    "\n",
    "$$n^{i+1}=n^{i}+\\Delta t[\\alpha_{n}(v^{i})(1-n^{i})-\\beta_{n}(v^{i})n^{i}]$$\n",
    "\n",
    "$$m^{i+1}=m^{i}+\\Delta t[\\alpha_{m}(v^{i})(1-m^{i})-\\beta_{m}(v^{i})m^{i}]$$\n",
    "\n",
    "$$h^{i+1}=h^{i}+\\Delta t[\\alpha_{h}(v^{i})(1-h^{i})-\\beta_{h}(v^{i})h^{i}]$$\n",
    "\n",
    "$$p^{i+1}=p^{i}+\\Delta t[\\frac{p_{\\infty}(v^{i})-p^{i}}{\\tau_{p}(v^{i})}]$$\n",
    "\n",
    "$$q^{i+1}=q^{i}+\\Delta t[\\alpha_{q}(v^{i})(1-q^{i})-\\beta_{q}(v^{i})q^{i}]$$\n",
    "\n",
    "$$r^{i+1}=r^{i}+\\Delta t[\\alpha_{r}(v^{i})(1-r^{i})-\\beta_{r}(v^{i})r^{i}]$$"
   ]
  },
  {
   "cell_type": "code",
   "execution_count": 8,
   "metadata": {},
   "outputs": [],
   "source": [
    "for k in range(0,100):\n",
    "    j=0\n",
    "    m=0\n",
    "    kont=0\n",
    "    I=i_mean + 0.1*k\n",
    "    for i in range(0, step-1) :\n",
    "        mt_IB[i + 1] = mt_IB[i] + delta_t * (alpha_m(Vt_IB[i]) * (1.0 - mt_IB[i]) - beta_m(Vt_IB[i]) * mt_IB[i])\n",
    "        ht_IB[i + 1] = ht_IB[i] + delta_t * (alpha_h(Vt_IB[i]) * (1.0 - ht_IB[i]) - beta_h(Vt_IB[i]) * ht_IB[i])\n",
    "        nt_IB[i + 1] = nt_IB[i] + delta_t * (alpha_n(Vt_IB[i]) * (1.0 - nt_IB[i]) - beta_n(Vt_IB[i]) * nt_IB[i])\n",
    "        pt_IB[i + 1] = pt_IB[i] + delta_t * ((p_infty(Vt_IB[i]) - pt_IB[i]) / tau_p(Vt_IB[i]))\n",
    "        qt[i + 1] = qt[i] + delta_t * (alpha_q(Vt_IB[i]) * (1.0 - qt[i]) - beta_q(Vt_IB[i]) * qt[i])\n",
    "        rt[i + 1] = rt[i] + delta_t * (alpha_r(Vt_IB[i]) * (1.0 - rt[i]) - beta_r(Vt_IB[i]) * rt[i])\n",
    "        Vt_IB[i + 1] = Vt_IB[i] + (delta_t/C_m) * (I-g_Na * mt_IB[i] ** 3 * ht_IB[i] * (Vt_IB[i]-E_Na) - g_K * nt_IB[i] ** 4 * (Vt_IB[i]-E_K)- g_Ca * qt[i]** 2 * rt[i] * (Vt_IB[i] - E_Ca) - g_M * pt_IB[i] * (Vt_IB[i] - E_K) - g_L * (Vt_IB[i]-E_L)) \n",
    "        \n",
    "        #Fire-egiteko aldiunea kalkulatu\n",
    "        if Vt_IB[i+1]>=0.0 and m==0: # Fire egin duela zihurtatu.\n",
    "            kont=kont+1\n",
    "            m=1                   # m=1 bihurtu.\n",
    "\n",
    "        #spike-a-ren amaiera lortu eta parametroak ezarri\n",
    "        if Vt_IB[i+1]<0.0 and m==1:  # m parametroak berrezarri.\n",
    "            m=0                   # m=0 berrezarri.\n",
    "                                  #spike-a amaitu da, m parametroa hasierako egoerara eman\n",
    "    Spike_Kont_IB[k]=kont*1.0 "
   ]
  },
  {
   "cell_type": "markdown",
   "metadata": {},
   "source": [
    "Intentsitatea irudikatzeko bektore bat sortu."
   ]
  },
  {
   "cell_type": "code",
   "execution_count": 9,
   "metadata": {},
   "outputs": [],
   "source": [
    "Inten=np.ones([100])\n",
    "for i in range(0,100):\n",
    "    Inten[i]= i_mean + i*0.1"
   ]
  },
  {
   "cell_type": "markdown",
   "metadata": {},
   "source": [
    "Ploteatu"
   ]
  },
  {
   "cell_type": "code",
   "execution_count": 10,
   "metadata": {},
   "outputs": [
    {
     "data": {
      "image/png": "[encoded data removed]",
      "text/plain": [
       "<Figure size 792x576 with 2 Axes>"
      ]
     },
     "metadata": {
      "needs_background": "light"
     },
     "output_type": "display_data"
    }
   ],
   "source": [
    "#################################  ### 00 ###\n",
    "\n",
    "plt.rc('text', usetex=True)\n",
    "\n",
    "#################################\n",
    "plt.rcParams['axes.spines.right'] = False\n",
    "plt.rcParams['axes.spines.top'] = False\n",
    "\n",
    "#################################  ### 01 ###\n",
    "fontsize = 25\n",
    "labelsize = 20\n",
    "#################################\n",
    "\n",
    "\n",
    "fig = plt.figure(constrained_layout=True, figsize=(11,8))\n",
    "\n",
    "spec = gridspec.GridSpec(ncols=1, nrows=2, figure=fig)\n",
    "f_ax1 = fig.add_subplot(spec[0, 0])\n",
    "f_ax1.plot(Inten, Spike_Kont_RS , 'b', label= r\"$\\textrm{RS Neurona}$\")\n",
    "f_ax1.plot(Inten, Spike_Kont_IB , 'lime', label= r\"$\\textrm{IB Neurona}$\")\n",
    "\n",
    "\n",
    "f_ax1.set_xlabel(r'$i_{e} \\textrm{ (mA/cm}^{2})$', fontsize=fontsize)\n",
    "f_ax1.set_ylabel(r'$FR \\textrm{ (Hz)}$',fontsize=fontsize)\n",
    "f_ax1.set_title(r'$\\textrm{FR vs } i_{e}$',fontsize=fontsize)\n",
    "\n",
    "f_ax1.legend(bbox_transform=f_ax1.transData, bbox_to_anchor=(3, 10), ncol=1, borderaxespad=0, \n",
    "             frameon=False, fontsize=20)\n",
    "axes_fig = [f_ax1] # irudiak dazkanaren arabera\n",
    "\n",
    "for i in axes_fig:\n",
    "    i.tick_params(axis='y', labelsize=labelsize, pad=5, length=10);\n",
    "    i.tick_params(axis='x', labelsize=labelsize, pad=5, length=10);\n",
    "\n",
    "\n",
    "plt.savefig('Fire Kopurua 100ms-ro vs I.pdf', format='pdf', dpi=180,bbox_inches=\"tight\")"
   ]
  },
  {
   "cell_type": "code",
   "execution_count": null,
   "metadata": {},
   "outputs": [],
   "source": []
  }
 ],
 "metadata": {
  "kernelspec": {
   "display_name": "Python 3",
   "language": "python",
   "name": "python3"
  },
  "language_info": {
   "codemirror_mode": {
    "name": "ipython",
    "version": 3
   },
   "file_extension": ".py",
   "mimetype": "text/x-python",
   "name": "python",
   "nbconvert_exporter": "python",
   "pygments_lexer": "ipython3",
   "version": "3.8.3"
  }
 },
 "nbformat": 4,
 "nbformat_minor": 5
}
