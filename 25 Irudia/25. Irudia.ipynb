{
 "cells": [
  {
   "cell_type": "markdown",
   "metadata": {},
   "source": [
    "Kasu honetan IB neurona dugu.\n",
    "\n",
    "Erabiliko diren moduluak:"
   ]
  },
  {
   "cell_type": "code",
   "execution_count": 1,
   "metadata": {},
   "outputs": [],
   "source": [
    "import math\n",
    "import matplotlib.pyplot as plt\n",
    "import numpy as np\n",
    "import matplotlib.gridspec as gridspec"
   ]
  },
  {
   "cell_type": "markdown",
   "metadata": {},
   "source": [
    "### IB Neuronarako erabiliko diren konstanteen multzoa\n",
    "\n",
    "Erabiliko diren aldagaien laburbilduma:\n",
    "\n",
    "|Aldagaia|Definizioa|Unitatea|\n",
    "|--------|-----------|-------|\n",
    "|$t_{max}$ |Simulazioa denbora maximoa|$ms$|\n",
    "|$\\Delta t$|Denboraren diskretizazioa |$ms$|\n",
    "|$\\tau_{max}$ |Parametro esperimentala|$s$|\n",
    "|$C_{m}$   |Mintz kapazitatea         |$\\frac{\\mu F}{cm^{2}}$|\n",
    "|$E_{Na}$  |Inbertsio potentziala, sodio kanaletarako|$mV$|\n",
    "|$E_{K}$   |Inbertsio potentziala, potasio kanaletarako|$mV$|\n",
    "|$E_{L}$   |Inbertsi potentziala|$mV$|\n",
    "|$E_{Ca}$   |Inbertsi potentziala, kaltzio kanaletarako|$mV$|\n",
    "|$g_{Na}$  |Konduktantzia espezifikoa, sodio korronte azkarrerako|$\\frac{mS}{cm^{2}}$|\n",
    "|$g_{K}$   |Konduktantzia espezifikoa, potasio korronte iraukorrerako|$\\frac{mS}{cm^{2}}$|\n",
    "|$g_{M}$   |Konduktantzia espezifikoa, potasio korronte geldorako|$\\frac{mS}{cm^{2}}$|\n",
    "|$g_{L}$   |Konduktantzia espezifikoa|$\\frac{mS}{cm^{2}}$|\n",
    "|$g_{Ca}$   |Konduktantzia espezifikoa, kaltzio korronte leherketarako|$\\frac{mS}{cm^{2}}$|\n",
    "|$i_{mean}$|Batez-besteko intentsitate bat finkatu|$\\frac{\\mu A}{cm^{2}}$|\n",
    "|$V_{rest}$|Egoera egonkorreko mintz potentziala|$mV$|\n",
    "|$V_{Th}$|Atari potentziala|$mV$|"
   ]
  },
  {
   "cell_type": "code",
   "execution_count": 2,
   "metadata": {},
   "outputs": [],
   "source": [
    "#Parametroak finkatu#####\n",
    "t_max=600      # ms\n",
    "delta_t=0.04   # ms\n",
    "tau_max=500.0  # s\n",
    "C_m=3.14       # micro F/cm^2 (c_m/(L*d)=C_m)\n",
    "E_Na=50.00     # mV\n",
    "E_K=-90.00     # mV\n",
    "E_L=-70.00     # mV\n",
    "E_Ca=120.0     # mV\n",
    "g_Na=50.0      # mS/cm^2\n",
    "g_K=5.0        # mS/cm^2\n",
    "g_M=0.07       # mS/cm^2\n",
    "g_L=0.1       # mS/cm^2\n",
    "g_Ca=0.1       # mS/cm^2  \n",
    "i_mean=3.5000     # microA/cm^2\n",
    "V_rest=-65.0   # mV\n",
    "v_th=-40.0     # mV"
   ]
  },
  {
   "cell_type": "markdown",
   "metadata": {},
   "source": [
    "### Funtzio laguntzaileen inplementazioa\n",
    "\n",
    "$$\\alpha_{m}=\\frac{-0.32(v-v_{Th}-13)}{\\exp [-(v-v_{Th}-13)/4]-1}$$\n",
    "\n",
    "$$\\beta_{m}=\\frac{0.28(v-v_{Th}-40)}{\\exp [(v-v_{Th}-40)/5]-1}$$\n",
    "\n",
    "$$\\alpha_{h}=0.128\\exp [-(v-v_{Th}-17)/18]$$\n",
    "\n",
    "$$\\beta_{h}=\\frac{4}{1+ exp[-(v-v_{Th}-40)/5]}$$\n",
    "\n",
    "$$\\alpha_{n}=\\frac{-0.032(v-v_{Th}-15)}{\\exp [-(v-v_{Th}-15)/5]-1}$$\n",
    "\n",
    "$$\\beta_{n}=0.5 \\exp[-(v-v_{Th}-10)/40]$$\n",
    "\n",
    "$$p_{\\infty}(v)=\\frac{1}{1+\\exp[-(v+35)/10]}$$\n",
    "\n",
    "$$\\tau_{p}(v)=\\frac{\\tau_{max}}{3.3\\exp[(v+35)/20]+\\exp[-(v+35)/20]}$$\n",
    "\n",
    "$$\\alpha_{q}=\\frac{0.055(-27-v)}{\\exp [(-27-v)/3.9]-1}$$\n",
    "\n",
    "$$\\beta_{q}=0.94 \\exp[(-75-v)/17]$$\n",
    "\n",
    "$$\\alpha_{r}=0.000457 \\exp[(-13-v)/50]$$\n",
    "\n",
    "$$\\beta_{r}=\\frac{0.0065}{1+ exp[(-15-v)/28]}$$"
   ]
  },
  {
   "cell_type": "code",
   "execution_count": 3,
   "metadata": {},
   "outputs": [],
   "source": [
    "def alpha_m(v):\n",
    "    return -0.32 * (v - v_th - 13.0) / (np.exp(-(v - v_th - 13.0) / 4.0) - 1.0)\n",
    "\n",
    "def beta_m(v):\n",
    "    return 0.28 * (v - v_th - 40.0) / (np.exp((v - v_th - 40.0) / 5.0) - 1.0)\n",
    "\n",
    "def alpha_h(v):\n",
    "    return 0.128 * np.exp(-(v - v_th - 17.0)/18.0)\n",
    "\n",
    "def beta_h(v):\n",
    "    return 4.0 / (1.0 + np.exp(-(v - v_th - 40.0) / 5.0))\n",
    "\n",
    "def alpha_n(v):\n",
    "    return -0.032 * (v - v_th - 15.0) / (np.exp(-(v - v_th - 15.0) / 5.0) - 1.0)\n",
    "\n",
    "def beta_n(v):\n",
    "    return 0.5 * np.exp(-(v - v_th - 10.0) / 40.0)\n",
    "\n",
    "def p_infty(v):\n",
    "    return 1.0 / (1.0 + np.exp(-(v + 35.0) / 10.0))\n",
    "\n",
    "def tau_p(v):\n",
    "    return tau_max / (3.3 * np.exp((v + 35.0) / 20.0) + np.exp(-(v + 35.0) / 20.0))\n",
    "\n",
    "def alpha_q(v):\n",
    "    return 0.055 * (-27.0 - v) / (np.exp((-27.0 - v) / 3.8) - 1.0)\n",
    "\n",
    "def beta_q(v):\n",
    "    return 0.94 * np.exp((-75.0 - v) / 17.0)\n",
    "\n",
    "def alpha_r(v):\n",
    "    return 0.000457 * np.exp((-13.0 - v) / 50.0)\n",
    "\n",
    "def beta_r(v):\n",
    "    return 0.0065 / (np.exp((-15.0 - v) / 28.0) + 1.0)"
   ]
  },
  {
   "cell_type": "markdown",
   "metadata": {},
   "source": [
    "### Bektoreak eta hasierako balioak finkatu"
   ]
  },
  {
   "cell_type": "code",
   "execution_count": 4,
   "metadata": {},
   "outputs": [],
   "source": [
    "#Denbora eremu osoa finkatzen dugu. 0 s-tik hasiz, delta_t diskretizazio denbora aldiunez t_max aldiunerarte\n",
    "t_eremua=np.arange(0,t_max,delta_t)\n",
    "#Luzera finkatu\n",
    "step=len(t_eremua)\n",
    "\n",
    "#Vt bektorea finkatu\n",
    "Vt=np.ones([step])\n",
    "\n",
    "#Fase espaziorako bektoreaa finkatu\n",
    "V_dot=np.ones([step])\n",
    "\n",
    "#nt, mt, ht bektoreak finkatu\n",
    "nt=np.ones([step])\n",
    "mt=np.ones([step])\n",
    "ht=np.ones([step])\n",
    "pt=np.ones([step])\n",
    "qt=np.ones([step])\n",
    "rt=np.ones([step])\n",
    "\n",
    "#Fase espaziorako bektoreak finkatu\n",
    "n_dot=np.ones([step])\n",
    "m_dot=np.ones([step])\n",
    "h_dot=np.ones([step])\n",
    "p_dot=np.ones([step])\n",
    "q_dot=np.ones([step])\n",
    "r_dot=np.ones([step])"
   ]
  },
  {
   "cell_type": "markdown",
   "metadata": {},
   "source": [
    "# Atari Intentsitatea\n",
    "\n",
    "Kode honetan IB neuronaren atari intentsitatea lortuko da. Honekin batera bi irudi adieraziko dira. Atari intentsitateak ematen duena eta hau baino pausu bat atzerago dagoen intentsitateak ematen duen mintz potentziala. Honetaroko intentsitatea gutxienaka handitzen joango da eta aldiuneren batean ekintza potentzial bat gauzatzen bada, atari potentziala lortu dela ondorioztatu ahalko da. Hala ere, lehenengo mintz potentzialari erlaxazio egoera bat lortzen utziko zaio. Hau da, $i_{e}=0.0$-rako $V_{t}$ lortzen joango gara. $V_{t}[i+1]-V_{t}[i]<\\epsilon$ bada, mintz potentziala erlaxatu dela esan dezakegu. Hau denbora aldiune batean emango da. Beraz hemendik aurrera atari intentsitatea bilatuko da."
   ]
  },
  {
   "cell_type": "markdown",
   "metadata": {},
   "source": [
    "### Gobernu ekuazioen ebazpena\n",
    "Euler-en aurrerazko formula erabiliz diskretizazioa denboran egiteko:\n",
    "\n",
    "\n",
    "$$v^{i+1}=v^{i}+\\frac{\\Delta t}{C_{m}}[I^{i}-\\overline{g_{Na}}(m^{3})^{i}h^{i}(v^{i}-E_{Na})-\\overline{g_{K}}(n^{4})^{i}(v^{i}-E_{K})-\\overline{g_{M}}p^{i}(v^{i}-E_{K})-\\overline{g_{Ca}}(q^{2})^{i}r^{i}(v^{i}-E_{Ca})-\\overline{g_{L}}(v^{i}-E_{L})]$$\n",
    "\n",
    "$$n^{i+1}=n^{i}+\\Delta t[\\alpha_{n}(v^{i})(1-n^{i})-\\beta_{n}(v^{i})n^{i}]$$\n",
    "\n",
    "$$m^{i+1}=m^{i}+\\Delta t[\\alpha_{m}(v^{i})(1-m^{i})-\\beta_{m}(v^{i})m^{i}]$$\n",
    "\n",
    "$$h^{i+1}=h^{i}+\\Delta t[\\alpha_{h}(v^{i})(1-h^{i})-\\beta_{h}(v^{i})h^{i}]$$\n",
    "\n",
    "$$p^{i+1}=p^{i}+\\Delta t[\\frac{p_{\\infty}(v^{i})-p^{i}}{\\tau_{p}(v^{i})}]$$\n",
    "\n",
    "$$q^{i+1}=q^{i}+\\Delta t[\\alpha_{q}(v^{i})(1-q^{i})-\\beta_{q}(v^{i})q^{i}]$$\n",
    "\n",
    "$$r^{i+1}=r^{i}+\\Delta t[\\alpha_{r}(v^{i})(1-r^{i})-\\beta_{r}(v^{i})r^{i}]$$"
   ]
  },
  {
   "cell_type": "markdown",
   "metadata": {},
   "source": [
    "Lehenik erlaxazio egoera lortuko dugu:"
   ]
  },
  {
   "cell_type": "code",
   "execution_count": 5,
   "metadata": {},
   "outputs": [
    {
     "name": "stdout",
     "output_type": "stream",
     "text": [
      "Erlaxatu da 152.36 aldiunean\n"
     ]
    }
   ],
   "source": [
    "i_erlaxazio=0.0   # Ez da intentsitaterik erabiliko erlaxazio egoera aurkitzeko.\n",
    "eps=0.00001       # Erabiliko dugun zehaztasuna erlaxazioa bilatzeko.\n",
    "\n",
    "#Hasierako baldintzak\n",
    "Vt[0]=V_rest\n",
    "nt[0]= alpha_n(V_rest) / (alpha_n(V_rest) + beta_n(V_rest))\n",
    "mt[0]= alpha_m(V_rest) / (alpha_m(V_rest) + beta_m(V_rest))\n",
    "ht[0]= alpha_h(V_rest) / (alpha_h(V_rest) + beta_h(V_rest))\n",
    "pt[0]= p_infty(V_rest)\n",
    "qt[0]= alpha_q(V_rest) / (alpha_q(V_rest) + beta_q(V_rest))\n",
    "rt[0]= alpha_r(V_rest) / (alpha_r(V_rest) + beta_r(V_rest))\n",
    "#####################\n",
    "\n",
    "for i in range(0, step-1) :\n",
    "        nt[i + 1] = nt[i] + delta_t * (alpha_n(Vt[i]) * (1.0 - nt[i]) - beta_n(Vt[i]) * nt[i])\n",
    "        mt[i + 1] = mt[i] + delta_t * (alpha_m(Vt[i]) * (1.0 - mt[i]) - beta_m(Vt[i]) * mt[i])\n",
    "        ht[i + 1] = ht[i] + delta_t * (alpha_h(Vt[i]) * (1.0 - ht[i]) - beta_h(Vt[i]) * ht[i])\n",
    "        pt[i + 1] = pt[i] + delta_t * ((p_infty(Vt[i]) - pt[i]) / tau_p(Vt[i]))\n",
    "        qt[i + 1] = qt[i] + delta_t * (alpha_q(Vt[i]) * (1.0 - qt[i]) - beta_q(Vt[i]) * qt[i])\n",
    "        rt[i + 1] = rt[i] + delta_t * (alpha_r(Vt[i]) * (1.0 - rt[i]) - beta_r(Vt[i]) * rt[i])\n",
    "        Vt[i + 1] = Vt[i] + (delta_t/C_m) * (i_erlaxazio-g_Na * mt[i] ** 3 * ht[i] * (Vt[i]-E_Na) - g_K * nt[i] ** 4 * (Vt[i]-E_K)- g_Ca * qt[i]** 2 * rt[i] * (Vt[i] - E_Ca) - g_M * pt[i] * (Vt[i] - E_K) - g_L * (Vt[i]-E_L)) \n",
    "        V_erlaxazio= Vt[i + 1] - Vt[i]\n",
    "        if abs(V_erlaxazio)<=eps:\n",
    "            print('Erlaxatu da', i * delta_t, 'aldiunean')\n",
    "            break"
   ]
  },
  {
   "cell_type": "markdown",
   "metadata": {},
   "source": [
    "Beraz, badakigu $t=152.36$ ms-an erlaxatu dela. Beraz, puntu honetatik aurrera atari intentsitatea lortuko dugu, honetarako honako intentsitate forma erabiliko dugu:"
   ]
  },
  {
   "cell_type": "code",
   "execution_count": 6,
   "metadata": {},
   "outputs": [],
   "source": [
    "def Ia(t):\n",
    "    if t>=152.36:\n",
    "        return 1.0\n",
    "    else:\n",
    "        return 0.0"
   ]
  },
  {
   "cell_type": "markdown",
   "metadata": {},
   "source": [
    "Atari intentsitatea aurkitu:"
   ]
  },
  {
   "cell_type": "code",
   "execution_count": 7,
   "metadata": {},
   "outputs": [
    {
     "name": "stdout",
     "output_type": "stream",
     "text": [
      "Honako Intentsitatean goaz: 3.5 . Espero dena: 3.5XXX\n",
      "Honako Intentsitatean goaz: 3.5001 . Espero dena: 3.5XXX\n",
      "Honako Intentsitatean goaz: 3.5002 . Espero dena: 3.5XXX\n",
      "Honako Intentsitatean goaz: 3.5003 . Espero dena: 3.5XXX\n",
      "Honako Intentsitatean goaz: 3.5004 . Espero dena: 3.5XXX\n",
      "Honako Intentsitatean goaz: 3.5005 . Espero dena: 3.5XXX\n",
      "Honako Intentsitatean goaz: 3.5006 . Espero dena: 3.5XXX\n",
      "Honako Intentsitatean goaz: 3.5007 . Espero dena: 3.5XXX\n",
      "Honako Intentsitatean goaz: 3.5008 . Espero dena: 3.5XXX\n",
      "Honako Intentsitatean goaz: 3.5009 . Espero dena: 3.5XXX\n",
      "Honako Intentsitatean goaz: 3.501 . Espero dena: 3.5XXX\n",
      "Honako Intentsitatean goaz: 3.5011 . Espero dena: 3.5XXX\n",
      "Honako Intentsitatean goaz: 3.5012 . Espero dena: 3.5XXX\n",
      "Honako Intentsitatean goaz: 3.5013 . Espero dena: 3.5XXX\n",
      "Honako Intentsitatean goaz: 3.5014 . Espero dena: 3.5XXX\n",
      "Honako Intentsitatean goaz: 3.5015 . Espero dena: 3.5XXX\n",
      "Honako Intentsitatean goaz: 3.5016 . Espero dena: 3.5XXX\n",
      "Honako Intentsitatean goaz: 3.5017 . Espero dena: 3.5XXX\n",
      "Honako Intentsitatean goaz: 3.5018 . Espero dena: 3.5XXX\n",
      "Honako Intentsitatean goaz: 3.5019 . Espero dena: 3.5XXX\n",
      "Honako Intentsitatean goaz: 3.502 . Espero dena: 3.5XXX\n",
      "Honako Intentsitatean goaz: 3.5021 . Espero dena: 3.5XXX\n",
      "Honako Intentsitatean goaz: 3.5022 . Espero dena: 3.5XXX\n",
      "Honako Intentsitatean goaz: 3.5023 . Espero dena: 3.5XXX\n",
      "Honako Intentsitatean goaz: 3.5024 . Espero dena: 3.5XXX\n",
      "Honako Intentsitatean goaz: 3.5025 . Espero dena: 3.5XXX\n",
      "Honako Intentsitatean goaz: 3.5026 . Espero dena: 3.5XXX\n",
      "Honako Intentsitatean goaz: 3.5027 . Espero dena: 3.5XXX\n",
      "Honako Intentsitatean goaz: 3.5028 . Espero dena: 3.5XXX\n",
      "Honako Intentsitatean goaz: 3.5029 . Espero dena: 3.5XXX\n",
      "Honako Intentsitatean goaz: 3.503 . Espero dena: 3.5XXX\n",
      "Honako Intentsitatean goaz: 3.5031 . Espero dena: 3.5XXX\n",
      "Honako Intentsitatean goaz: 3.5032 . Espero dena: 3.5XXX\n",
      "Honako Intentsitatean goaz: 3.5033 . Espero dena: 3.5XXX\n",
      "Honako Intentsitatean goaz: 3.5034 . Espero dena: 3.5XXX\n",
      "Honako Intentsitatean goaz: 3.5035 . Espero dena: 3.5XXX\n",
      "Honako Intentsitatean goaz: 3.5036 . Espero dena: 3.5XXX\n",
      "Honako Intentsitatean goaz: 3.5037 . Espero dena: 3.5XXX\n",
      "Honako Intentsitatean goaz: 3.5038 . Espero dena: 3.5XXX\n",
      "Honako Intentsitatean goaz: 3.5039 . Espero dena: 3.5XXX\n",
      "Honako Intentsitatean goaz: 3.504 . Espero dena: 3.5XXX\n",
      "Honako Intentsitatean goaz: 3.5041 . Espero dena: 3.5XXX\n",
      "Honako Intentsitatean goaz: 3.5042 . Espero dena: 3.5XXX\n",
      "Honako Intentsitatean goaz: 3.5043 . Espero dena: 3.5XXX\n",
      "Honako Intentsitatean goaz: 3.5044 . Espero dena: 3.5XXX\n",
      "Honako Intentsitatean goaz: 3.5045 . Espero dena: 3.5XXX\n",
      "Honako Intentsitatean goaz: 3.5046 . Espero dena: 3.5XXX\n",
      "Honako Intentsitatean goaz: 3.5047 . Espero dena: 3.5XXX\n",
      "Honako Intentsitatean goaz: 3.5048 . Espero dena: 3.5XXX\n",
      "Honako Intentsitatean goaz: 3.5049 . Espero dena: 3.5XXX\n",
      "Honako Intentsitatean goaz: 3.505 . Espero dena: 3.5XXX\n",
      "Honako Intentsitatean goaz: 3.5051 . Espero dena: 3.5XXX\n",
      "Honako Intentsitatean goaz: 3.5052 . Espero dena: 3.5XXX\n",
      "Honako Intentsitatean goaz: 3.5053 . Espero dena: 3.5XXX\n",
      "Honako Intentsitatean goaz: 3.5054 . Espero dena: 3.5XXX\n",
      "Honako Intentsitatean goaz: 3.5055 . Espero dena: 3.5XXX\n",
      "Honako Intentsitatean goaz: 3.5056 . Espero dena: 3.5XXX\n",
      "Honako Intentsitatean goaz: 3.5057 . Espero dena: 3.5XXX\n",
      "Honako Intentsitatean goaz: 3.5058 . Espero dena: 3.5XXX\n",
      "Honako Intentsitatean goaz: 3.5059 . Espero dena: 3.5XXX\n",
      "Honako Intentsitatean goaz: 3.506 . Espero dena: 3.5XXX\n",
      "Honako Intentsitatean goaz: 3.5061 . Espero dena: 3.5XXX\n",
      "Honako Intentsitatean goaz: 3.5062 . Espero dena: 3.5XXX\n",
      "Honako Intentsitatean goaz: 3.5063 . Espero dena: 3.5XXX\n",
      "Honako Intentsitatean goaz: 3.5064 . Espero dena: 3.5XXX\n",
      "Honako Intentsitatean goaz: 3.5065 . Espero dena: 3.5XXX\n",
      "Honako Intentsitatean goaz: 3.5066 . Espero dena: 3.5XXX\n",
      "Honako Intentsitatean goaz: 3.5067 . Espero dena: 3.5XXX\n",
      "Honako Intentsitatean goaz: 3.5068 . Espero dena: 3.5XXX\n",
      "Honako Intentsitatean goaz: 3.5069 . Espero dena: 3.5XXX\n",
      "Honako Intentsitatean goaz: 3.507 . Espero dena: 3.5XXX\n",
      "Honako Intentsitatean goaz: 3.5071 . Espero dena: 3.5XXX\n",
      "Honako Intentsitatean goaz: 3.5072 . Espero dena: 3.5XXX\n",
      "Honako Intentsitatean goaz: 3.5073 . Espero dena: 3.5XXX\n",
      "Honako Intentsitatean goaz: 3.5074 . Espero dena: 3.5XXX\n",
      "Honako Intentsitatean goaz: 3.5075 . Espero dena: 3.5XXX\n",
      "Honako Intentsitatean goaz: 3.5076 . Espero dena: 3.5XXX\n",
      "Honako Intentsitatean goaz: 3.5077 . Espero dena: 3.5XXX\n",
      "Honako Intentsitatean goaz: 3.5078 . Espero dena: 3.5XXX\n",
      "Honako Intentsitatean goaz: 3.5079 . Espero dena: 3.5XXX\n",
      "Honako Intentsitatean goaz: 3.508 . Espero dena: 3.5XXX\n",
      "Honako Intentsitatean goaz: 3.5081 . Espero dena: 3.5XXX\n",
      "Honako Intentsitatean goaz: 3.5082 . Espero dena: 3.5XXX\n",
      "Honako Intentsitatean goaz: 3.5083 . Espero dena: 3.5XXX\n",
      "Honako Intentsitatean goaz: 3.5084 . Espero dena: 3.5XXX\n",
      "Honako Intentsitatean goaz: 3.5085 . Espero dena: 3.5XXX\n",
      "Honako Intentsitatean goaz: 3.5086 . Espero dena: 3.5XXX\n",
      "Honako Intentsitatean goaz: 3.5087 . Espero dena: 3.5XXX\n",
      "Honako Intentsitatean goaz: 3.5088 . Espero dena: 3.5XXX\n",
      "Honako Intentsitatean goaz: 3.5089 . Espero dena: 3.5XXX\n",
      "Honako Intentsitatean goaz: 3.509 . Espero dena: 3.5XXX\n",
      "Honako Intentsitatean goaz: 3.5091 . Espero dena: 3.5XXX\n",
      "Honako Intentsitatean goaz: 3.5092 . Espero dena: 3.5XXX\n",
      "Honako Intentsitatean goaz: 3.5093 . Espero dena: 3.5XXX\n",
      "Honako Intentsitatean goaz: 3.5094 . Espero dena: 3.5XXX\n",
      "Honako Intentsitatean goaz: 3.5095 . Espero dena: 3.5XXX\n",
      "Honako Intentsitatean goaz: 3.5096 . Espero dena: 3.5XXX\n",
      "Honako Intentsitatean goaz: 3.5097 . Espero dena: 3.5XXX\n",
      "Honako Intentsitatean goaz: 3.5098 . Espero dena: 3.5XXX\n",
      "Atari intentsitatea honako hau da:\n",
      "3.5098\n"
     ]
    }
   ],
   "source": [
    "i_atari=0.0 #Atari intentsitatea\n",
    "stop=0      #Ekintza potentziala ematen deneko aldagaia loop-aren break-a emateko\n",
    "for k in range (0,1000000):\n",
    "    # Hasierako balioak\n",
    "    Vt[0]=V_rest\n",
    "    nt[0]= alpha_n(V_rest) / (alpha_n(V_rest) + beta_n(V_rest))\n",
    "    mt[0]= alpha_m(V_rest) / (alpha_m(V_rest) + beta_m(V_rest))\n",
    "    ht[0]= alpha_h(V_rest) / (alpha_h(V_rest) + beta_h(V_rest))\n",
    "    pt[0]= p_infty(V_rest)\n",
    "    qt[0]= alpha_q(V_rest) / (alpha_q(V_rest) + beta_q(V_rest))\n",
    "    rt[0]= alpha_r(V_rest) / (alpha_r(V_rest) + beta_r(V_rest))\n",
    "    I= i_mean +0.0001*k\n",
    "    print('Honako Intentsitatean goaz:', I, '. Espero dena: 3.5XXX')\n",
    "    for i in range(0, step-1) :\n",
    "        nt[i + 1] = nt[i] + delta_t * (alpha_n(Vt[i]) * (1.0 - nt[i]) - beta_n(Vt[i]) * nt[i])\n",
    "        mt[i + 1] = mt[i] + delta_t * (alpha_m(Vt[i]) * (1.0 - mt[i]) - beta_m(Vt[i]) * mt[i])\n",
    "        ht[i + 1] = ht[i] + delta_t * (alpha_h(Vt[i]) * (1.0 - ht[i]) - beta_h(Vt[i]) * ht[i])\n",
    "        pt[i + 1] = pt[i] + delta_t * ((p_infty(Vt[i]) - pt[i]) / tau_p(Vt[i]))\n",
    "        qt[i + 1] = qt[i] + delta_t * (alpha_q(Vt[i]) * (1.0 - qt[i]) - beta_q(Vt[i]) * qt[i])\n",
    "        rt[i + 1] = rt[i] + delta_t * (alpha_r(Vt[i]) * (1.0 - rt[i]) - beta_r(Vt[i]) * rt[i])\n",
    "        Vt[i + 1] = Vt[i] + (delta_t/C_m) * (I * Ia(i*delta_t)-g_Na * mt[i] ** 3 * ht[i] * (Vt[i]-E_Na) - g_K * nt[i] ** 4 * (Vt[i]-E_K)- g_Ca * qt[i]** 2 * rt[i] * (Vt[i] - E_Ca) - g_M * pt[i] * (Vt[i] - E_K) - g_L * (Vt[i]-E_L)) \n",
    "        if Vt[i + 1]>=0.0: #Ekintza potentziala ematen bada stop=1 lortzen da\n",
    "            stop=1\n",
    "            i_atari=I\n",
    "            print('Atari intentsitatea honako hau da:')\n",
    "            print(I)\n",
    "            break\n",
    "    if stop==1:\n",
    "        break"
   ]
  },
  {
   "cell_type": "code",
   "execution_count": 8,
   "metadata": {
    "scrolled": true
   },
   "outputs": [
    {
     "name": "stdout",
     "output_type": "stream",
     "text": [
      "Atari intentsitatea honako hau da:\n",
      "3.5098\n"
     ]
    }
   ],
   "source": [
    "print('Atari intentsitatea honako hau da:')\n",
    "print(i_atari)"
   ]
  },
  {
   "cell_type": "markdown",
   "metadata": {},
   "source": [
    "Hemen lortu den atari intentsitatearekin eta bere aurreko pausuko intentsitatearekin, mintz potentzialaren bi ezbazpenak egingo dira"
   ]
  },
  {
   "cell_type": "markdown",
   "metadata": {},
   "source": [
    "# Atari Intentsitatearen eta Honen Aurreko Pausuaren Irudiak"
   ]
  },
  {
   "cell_type": "code",
   "execution_count": 9,
   "metadata": {},
   "outputs": [],
   "source": [
    "Vt_bai=np.ones([step]) #Ekintza potentziala emango deneko mintz potentziala\n",
    "Vt_ez=np.ones([step])  #Ekintza potentziala emango ez deneko mintz potentziala\n",
    "\n",
    "for k in range (0,2):\n",
    "    # Hasierako balioak\n",
    "    Vt[0]=V_rest\n",
    "    nt[0]= alpha_n(V_rest) / (alpha_n(V_rest) + beta_n(V_rest))\n",
    "    mt[0]= alpha_m(V_rest) / (alpha_m(V_rest) + beta_m(V_rest))\n",
    "    ht[0]= alpha_h(V_rest) / (alpha_h(V_rest) + beta_h(V_rest))\n",
    "    pt[0]= p_infty(V_rest)\n",
    "    qt[0]= alpha_q(V_rest) / (alpha_q(V_rest) + beta_q(V_rest))\n",
    "    rt[0]= alpha_r(V_rest) / (alpha_r(V_rest) + beta_r(V_rest))\n",
    "    I= i_atari - 0.0001*k\n",
    "    for i in range(0, step-1) :\n",
    "        nt[i + 1] = nt[i] + delta_t * (alpha_n(Vt[i]) * (1.0 - nt[i]) - beta_n(Vt[i]) * nt[i])\n",
    "        mt[i + 1] = mt[i] + delta_t * (alpha_m(Vt[i]) * (1.0 - mt[i]) - beta_m(Vt[i]) * mt[i])\n",
    "        ht[i + 1] = ht[i] + delta_t * (alpha_h(Vt[i]) * (1.0 - ht[i]) - beta_h(Vt[i]) * ht[i])\n",
    "        pt[i + 1] = pt[i] + delta_t * ((p_infty(Vt[i]) - pt[i]) / tau_p(Vt[i]))\n",
    "        qt[i + 1] = qt[i] + delta_t * (alpha_q(Vt[i]) * (1.0 - qt[i]) - beta_q(Vt[i]) * qt[i])\n",
    "        rt[i + 1] = rt[i] + delta_t * (alpha_r(Vt[i]) * (1.0 - rt[i]) - beta_r(Vt[i]) * rt[i])\n",
    "        Vt[i + 1] = Vt[i] + (delta_t/C_m) * (I * Ia(i * delta_t)-g_Na * mt[i] ** 3 * ht[i] * (Vt[i]-E_Na) - g_K * nt[i] ** 4 * (Vt[i]-E_K)- g_Ca * qt[i]** 2 * rt[i] * (Vt[i] - E_Ca) - g_M * pt[i] * (Vt[i] - E_K) - g_L * (Vt[i]-E_L)) \n",
    "    if k==0:\n",
    "        for i in range (0,step): #I=i_atari -> ekintza potentziala bai\n",
    "            Vt_bai[i]=Vt[i]\n",
    "            \n",
    "            \n",
    "    if k==1:\n",
    "        for i in range(0,step): # I=i_atari-0.01 -> ekintza potentziala ez\n",
    "            Vt_ez[i]=Vt[i]   "
   ]
  },
  {
   "cell_type": "markdown",
   "metadata": {},
   "source": [
    "Ploteatu:"
   ]
  },
  {
   "cell_type": "code",
   "execution_count": 10,
   "metadata": {},
   "outputs": [],
   "source": [
    "#fig = plt.figure()\n",
    "#Neuron potential\n",
    "\n",
    "#plt.rcParams['axes.spines.right'] = False\n",
    "#plt.rcParams['axes.spines.top'] = False\n",
    "\n",
    "#fig, ax2 = plt.subplots(figsize=(11, 8))\n",
    "\n",
    "#ax2 = plt.subplot(221)\n",
    "#ax2.plot(t_eremua, Vt_bai, 'r', label='$i_{e}=3.5098$')\n",
    "#ax2.set_ylabel('$V_{m} (mV)$',fontsize=15)\n",
    "#ax2.set_xlabel('$t (ms)$',fontsize=15)\n",
    "#ax2.set_xlim(152.36,t_max)\n",
    "#ax2.set_ylim(-80,50)\n",
    "#fig, ax2.set_title('Mintz potentziala',fontsize=20)\n",
    "#plt.legend()\n",
    "\n",
    "#ax3 = plt.subplot(222)\n",
    "#ax3.plot(t_eremua, Vt_ez, 'g', label='$i_{e}=3.5097$')\n",
    "#ax3.set_ylabel('$V_{m} (mV)$',fontsize=15)\n",
    "#ax3.set_xlabel('$t (ms)$',fontsize=15)\n",
    "#ax3.set_xlim(152.36,t_max)\n",
    "#ax3.set_ylim(-80,50)\n",
    "#fig, ax3.set_title('Mintz potentziala',fontsize=20)\n",
    "#plt.legend()\n",
    "#plt.savefig('IB_Eredua_Atari_Intentsitatea.png')"
   ]
  },
  {
   "cell_type": "code",
   "execution_count": 11,
   "metadata": {},
   "outputs": [
    {
     "name": "stdout",
     "output_type": "stream",
     "text": [
      "3.5101\n"
     ]
    }
   ],
   "source": [
    "Vt[0]=V_rest\n",
    "nt[0]= alpha_n(V_rest) / (alpha_n(V_rest) + beta_n(V_rest))\n",
    "mt[0]= alpha_m(V_rest) / (alpha_m(V_rest) + beta_m(V_rest))\n",
    "ht[0]= alpha_h(V_rest) / (alpha_h(V_rest) + beta_h(V_rest))\n",
    "pt[0]= p_infty(V_rest)\n",
    "qt[0]= alpha_q(V_rest) / (alpha_q(V_rest) + beta_q(V_rest))\n",
    "rt[0]= alpha_r(V_rest) / (alpha_r(V_rest) + beta_r(V_rest))\n",
    "I= i_atari + 0.0003\n",
    "print(I)\n",
    "for i in range(0, step-1) :\n",
    "    nt[i + 1] = nt[i] + delta_t * (alpha_n(Vt[i]) * (1.0 - nt[i]) - beta_n(Vt[i]) * nt[i])\n",
    "    mt[i + 1] = mt[i] + delta_t * (alpha_m(Vt[i]) * (1.0 - mt[i]) - beta_m(Vt[i]) * mt[i])\n",
    "    ht[i + 1] = ht[i] + delta_t * (alpha_h(Vt[i]) * (1.0 - ht[i]) - beta_h(Vt[i]) * ht[i])\n",
    "    pt[i + 1] = pt[i] + delta_t * ((p_infty(Vt[i]) - pt[i]) / tau_p(Vt[i]))\n",
    "    qt[i + 1] = qt[i] + delta_t * (alpha_q(Vt[i]) * (1.0 - qt[i]) - beta_q(Vt[i]) * qt[i])\n",
    "    rt[i + 1] = rt[i] + delta_t * (alpha_r(Vt[i]) * (1.0 - rt[i]) - beta_r(Vt[i]) * rt[i])\n",
    "    Vt[i + 1] = Vt[i] + (delta_t/C_m) * (I * Ia(i * delta_t)-g_Na * mt[i] ** 3 * ht[i] * (Vt[i]-E_Na) - g_K * nt[i] ** 4 * (Vt[i]-E_K)- g_Ca * qt[i]** 2 * rt[i] * (Vt[i] - E_Ca) - g_M * pt[i] * (Vt[i] - E_K) - g_L * (Vt[i]-E_L)) "
   ]
  },
  {
   "cell_type": "code",
   "execution_count": 12,
   "metadata": {},
   "outputs": [
    {
     "data": {
      "text/plain": [
       "<Figure size 432x288 with 0 Axes>"
      ]
     },
     "metadata": {},
     "output_type": "display_data"
    },
    {
     "data": {
      "image/png": "[encoded data removed]",
      "text/plain": [
       "<Figure size 792x576 with 1 Axes>"
      ]
     },
     "metadata": {
      "needs_background": "light"
     },
     "output_type": "display_data"
    }
   ],
   "source": [
    "#################################  ### 00 ###\n",
    "\n",
    "plt.rc('text', usetex=True)\n",
    "\n",
    "#################################\n",
    "\n",
    "fig = plt.figure();\n",
    "\n",
    "plt.rcParams['axes.spines.right'] = False\n",
    "plt.rcParams['axes.spines.top'] = False\n",
    "\n",
    "#################################  ### 01 ###\n",
    "fontsize = 25\n",
    "labelsize = 20\n",
    "#################################\n",
    "\n",
    "fig, ax2 = plt.subplots(figsize=(11, 8))\n",
    "\n",
    "ax2 = plt.subplot(221)\n",
    "ax2.plot(t_eremua, Vt, label=r'$i_{e}=3.5101$')\n",
    "ax2.set_ylabel(r'$V_{m} \\textrm{ (mV)}$',fontsize=fontsize)\n",
    "ax2.set_xlabel(r'$t \\textrm{ (ms)}$',fontsize=fontsize)\n",
    "ax2.set_xlim(152.36,t_max)\n",
    "ax2.set_ylim(-80,50)\n",
    "fig, ax2.set_title(r'$\\textrm{Mintz-potentziala}$',fontsize=fontsize)\n",
    "\n",
    "ax2.legend(bbox_transform=ax2.transData, bbox_to_anchor=(450, 25), ncol=1, borderaxespad=0, \n",
    "             frameon=False, fontsize=15)\n",
    "\n",
    "######################################  ### 04 ###\n",
    "axes_fig = [ax2] # irudiak dazkanaren arabera\n",
    "\n",
    "for i in axes_fig:\n",
    "    i.tick_params(axis='y', labelsize=labelsize, pad=5, length=10);\n",
    "    i.tick_params(axis='x', labelsize=labelsize, pad=5, length=10)\n",
    "\n",
    "\n",
    "plt.savefig('IB_Eredua_Atari_Intentsitatea.pdf', format='pdf', dpi=180,bbox_inches=\"tight\")"
   ]
  },
  {
   "cell_type": "code",
   "execution_count": null,
   "metadata": {},
   "outputs": [],
   "source": []
  }
 ],
 "metadata": {
  "kernelspec": {
   "display_name": "Python 3",
   "language": "python",
   "name": "python3"
  },
  "language_info": {
   "codemirror_mode": {
    "name": "ipython",
    "version": 3
   },
   "file_extension": ".py",
   "mimetype": "text/x-python",
   "name": "python",
   "nbconvert_exporter": "python",
   "pygments_lexer": "ipython3",
   "version": "3.8.3"
  }
 },
 "nbformat": 4,
 "nbformat_minor": 5
}
