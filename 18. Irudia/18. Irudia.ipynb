{
 "cells": [
  {
   "cell_type": "markdown",
   "metadata": {},
   "source": [
    "Kasu honetan IB neurona dugu.\n",
    "\n",
    "Erabiliko diren moduluak:"
   ]
  },
  {
   "cell_type": "code",
   "execution_count": 1,
   "metadata": {},
   "outputs": [],
   "source": [
    "import math\n",
    "import matplotlib.pyplot as plt\n",
    "import numpy as np\n",
    "import matplotlib.gridspec as gridspec\n",
    "import matplotlib.patches as mpatches"
   ]
  },
  {
   "cell_type": "markdown",
   "metadata": {},
   "source": [
    "### IB Neuronarako erabiliko diren konstanteen multzoa\n",
    "\n",
    "Erabiliko diren aldagaien laburbilduma:\n",
    "\n",
    "|Aldagaia|Definizioa|Unitatea|\n",
    "|--------|-----------|-------|\n",
    "|$t_{max}$ |Simulazioa denbora maximoa|$ms$|\n",
    "|$\\Delta t$|Denboraren diskretizazioa |$ms$|\n",
    "|$\\tau_{max}$ |Parametro esperimentala|$s$|\n",
    "|$C_{m}$   |Mintz kapazitatea         |$\\frac{\\mu F}{cm^{2}}$|\n",
    "|$E_{Na}$  |Inbertsio potentziala, sodio kanaletarako|$mV$|\n",
    "|$E_{K}$   |Inbertsio potentziala, potasio kanaletarako|$mV$|\n",
    "|$E_{L}$   |Inbertsi potentziala|$mV$|\n",
    "|$E_{Ca}$   |Inbertsi potentziala, kaltzio kanaletarako|$mV$|\n",
    "|$g_{Na}$  |Konduktantzia espezifikoa, sodio korronte azkarrerako|$\\frac{mS}{cm^{2}}$|\n",
    "|$g_{K}$   |Konduktantzia espezifikoa, potasio korronte iraukorrerako|$\\frac{mS}{cm^{2}}$|\n",
    "|$g_{M}$   |Konduktantzia espezifikoa, potasio korronte geldorako|$\\frac{mS}{cm^{2}}$|\n",
    "|$g_{L}$   |Konduktantzia espezifikoa|$\\frac{mS}{cm^{2}}$|\n",
    "|$g_{Ca}$   |Konduktantzia espezifikoa, kaltzio korronte leherketarako|$\\frac{mS}{cm^{2}}$|\n",
    "|$i_{mean}$|Batez-besteko intentsitate bat finkatu|$\\frac{\\mu A}{cm^{2}}$|\n",
    "|$V_{rest}$|Egoera egonkorreko mintz potentziala|$mV$|\n",
    "|$V_{Th}$|Atari potentziala|$mV$|"
   ]
  },
  {
   "cell_type": "code",
   "execution_count": 2,
   "metadata": {},
   "outputs": [],
   "source": [
    "#Parametroak finkatu#####\n",
    "t_max=400      # ms\n",
    "delta_t=0.04   # ms\n",
    "tau_max=500.0  # s\n",
    "C_m=3.14       # micro F/cm^2 (c_m/(L*d)=C_m)\n",
    "E_Na=50.00     # mV\n",
    "E_K=-90.00     # mV\n",
    "E_L=-70.00     # mV\n",
    "E_Ca=120.0     # mV\n",
    "g_Na=50.0      # mS/cm^2\n",
    "g_K=5.0        # mS/cm^2\n",
    "g_M=0.07       # mS/cm^2\n",
    "g_L=0.1       # mS/cm^2\n",
    "g_Ca=0.1       # mS/cm^2  \n",
    "i_mean=5.0     # microA/cm^2\n",
    "V_rest=-65.0   # mV\n",
    "v_th=-40.0     # mV"
   ]
  },
  {
   "cell_type": "markdown",
   "metadata": {},
   "source": [
    "### Funtzio laguntzaileen inplementazioa\n",
    "\n",
    "$$\\alpha_{m}=\\frac{-0.32(v-v_{Th}-13)}{\\exp [-(v-v_{Th}-13)/4]-1}$$\n",
    "\n",
    "$$\\beta_{m}=\\frac{0.28(v-v_{Th}-40)}{\\exp [(v-v_{Th}-40)/5]-1}$$\n",
    "\n",
    "$$\\alpha_{h}=0.128\\exp [-(v-v_{Th}-17)/18]$$\n",
    "\n",
    "$$\\beta_{h}=\\frac{4}{1+ exp[-(v-v_{Th}-40)/5]}$$\n",
    "\n",
    "$$\\alpha_{n}=\\frac{-0.032(v-v_{Th}-15)}{\\exp [-(v-v_{Th}-15)/5]-1}$$\n",
    "\n",
    "$$\\beta_{n}=0.5 \\exp[-(v-v_{Th}-10)/40]$$\n",
    "\n",
    "$$p_{\\infty}(v)=\\frac{1}{1+\\exp[-(v+35)/10]}$$\n",
    "\n",
    "$$\\tau_{p}(v)=\\frac{\\tau_{max}}{3.3\\exp[(v+35)/20]+\\exp[-(v+35)/20]}$$\n",
    "\n",
    "$$\\alpha_{q}=\\frac{0.055(-27-v)}{\\exp [(-27-v)/3.9]-1}$$\n",
    "\n",
    "$$\\beta_{q}=0.94 \\exp[(-75-v)/17]$$\n",
    "\n",
    "$$\\alpha_{r}=0.000457 \\exp[(-13-v)/50]$$\n",
    "\n",
    "$$\\beta_{r}=\\frac{0.0065}{1+ exp[(-15-v)/28]}$$\n",
    "\n",
    "Erabiliko den intentsitatearen forma ere sartu dugu kasu honetan. $i_{e}$-ren balioa finko mantendu da $t_{max}$ simulazio ia osorako. Azkenengo 25 ms-tan intentsitate negatibo bat sartu zaio neuronari. Azken honen helburua irudian ekintza potentzialei amaiera bat ematea da."
   ]
  },
  {
   "cell_type": "code",
   "execution_count": 3,
   "metadata": {},
   "outputs": [],
   "source": [
    "def Id(t):\n",
    "    if t<=375:\n",
    "        return i_mean\n",
    "    else:\n",
    "        return -1.0\n",
    "        \n",
    "def alpha_m(v):\n",
    "    return -0.32 * (v - v_th - 13.0) / (np.exp(-(v - v_th - 13.0) / 4.0) - 1.0)\n",
    "\n",
    "def beta_m(v):\n",
    "    return 0.28 * (v - v_th - 40.0) / (np.exp((v - v_th - 40.0) / 5.0) - 1.0)\n",
    "\n",
    "def alpha_h(v):\n",
    "    return 0.128 * np.exp(-(v - v_th - 17.0)/18.0)\n",
    "\n",
    "def beta_h(v):\n",
    "    return 4.0 / (1.0 + np.exp(-(v - v_th - 40.0) / 5.0))\n",
    "\n",
    "def alpha_n(v):\n",
    "    return -0.032 * (v - v_th - 15.0) / (np.exp(-(v - v_th - 15.0) / 5.0) - 1.0)\n",
    "\n",
    "def beta_n(v):\n",
    "    return 0.5 * np.exp(-(v - v_th - 10.0) / 40.0)\n",
    "\n",
    "def p_infty(v):\n",
    "    return 1.0 / (1.0 + np.exp(-(v + 35.0) / 10.0))\n",
    "\n",
    "def tau_p(v):\n",
    "    return tau_max / (3.3 * np.exp((v + 35.0) / 20.0) + np.exp(-(v + 35.0) / 20.0))\n",
    "\n",
    "def alpha_q(v):\n",
    "    return 0.055 * (-27.0 - v) / (np.exp((-27.0 - v) / 3.8) - 1.0)\n",
    "\n",
    "def beta_q(v):\n",
    "    return 0.94 * np.exp((-75.0 - v) / 17.0)\n",
    "\n",
    "def alpha_r(v):\n",
    "    return 0.000457 * np.exp((-13.0 - v) / 50.0)\n",
    "\n",
    "def beta_r(v):\n",
    "    return 0.0065 / (np.exp((-15.0 - v) / 28.0) + 1.0)"
   ]
  },
  {
   "cell_type": "markdown",
   "metadata": {},
   "source": [
    "### Bektoreak eta hasierako balioak finkatu"
   ]
  },
  {
   "cell_type": "code",
   "execution_count": 4,
   "metadata": {},
   "outputs": [],
   "source": [
    "#Denbora eremu osoa finkatzen dugu. 0 s-tik hasiz, delta_t diskretizazio denbora aldiunez t_max aldiunerarte\n",
    "t_eremua=np.arange(0,t_max,delta_t)\n",
    "#Luzera finkatu\n",
    "step=len(t_eremua)\n",
    "\n",
    "#Vt bektorea finkatu\n",
    "Vt=np.ones([step])\n",
    "\n",
    "#Fase espaziorako bektoreaa finkatu\n",
    "V_dot=np.ones([step])\n",
    "\n",
    "#nt, mt, ht bektoreak finkatu\n",
    "nt=np.ones([step])\n",
    "mt=np.ones([step])\n",
    "ht=np.ones([step])\n",
    "pt=np.ones([step])\n",
    "qt=np.ones([step])\n",
    "rt=np.ones([step])\n",
    "\n",
    "#Fase espaziorako bektoreak finkatu\n",
    "n_dot=np.ones([step])\n",
    "m_dot=np.ones([step])\n",
    "h_dot=np.ones([step])\n",
    "p_dot=np.ones([step])\n",
    "q_dot=np.ones([step])\n",
    "r_dot=np.ones([step])"
   ]
  },
  {
   "cell_type": "markdown",
   "metadata": {},
   "source": [
    "Hasierako egoerak:\n",
    "$$n(0)=\\frac{\\alpha_{n}}{\\alpha_{n} + \\beta_{n}}|_{V_{rest}}$$\n",
    "\n",
    "$$m(0)=\\frac{\\alpha_{m}}{\\alpha_{m} + \\beta_{m}}|_{V_{rest}}$$\n",
    "\n",
    "$$h(0)=\\frac{\\alpha_{h}}{\\alpha_{h} + \\beta_{h}}|_{V_{rest}}$$\n",
    "\n",
    "$$p(0)=p_{\\infty}|_{V_{rest}}$$\n",
    "\n",
    "$$q(0)=\\frac{\\alpha_{q}}{\\alpha_{q} + \\beta_{q}}|_{V_{rest}}$$\n",
    "\n",
    "$$r(0)=\\frac{\\alpha_{r}}{\\alpha_{r} + \\beta_{r}}|_{V_{rest}}$$"
   ]
  },
  {
   "cell_type": "code",
   "execution_count": 5,
   "metadata": {},
   "outputs": [],
   "source": [
    "# Hasierako balioak\n",
    "Vt[0]=V_rest\n",
    "nt[0]= alpha_n(V_rest) / (alpha_n(V_rest) + beta_n(V_rest))\n",
    "mt[0]= alpha_m(V_rest) / (alpha_m(V_rest) + beta_m(V_rest))\n",
    "ht[0]= alpha_h(V_rest) / (alpha_h(V_rest) + beta_h(V_rest))\n",
    "pt[0]= p_infty(V_rest)\n",
    "qt[0]= alpha_q(V_rest) / (alpha_q(V_rest) + beta_q(V_rest))\n",
    "rt[0]= alpha_r(V_rest) / (alpha_r(V_rest) + beta_r(V_rest))"
   ]
  },
  {
   "cell_type": "markdown",
   "metadata": {},
   "source": [
    "### Gobernu ekuazioen ebazpena\n",
    "Euler-en aurrerazko formula erabiliz diskretizazioa denboran egiteko:\n",
    "\n",
    "\n",
    "$$v^{i+1}=v^{i}+\\frac{\\Delta t}{C_{m}}[I^{i}-\\overline{g_{Na}}(m^{3})^{i}h^{i}(v^{i}-E_{Na})-\\overline{g_{K}}(n^{4})^{i}(v^{i}-E_{K})-\\overline{g_{M}}p^{i}(v^{i}-E_{K})-\\overline{g_{Ca}}(q^{2})^{i}r^{i}(v^{i}-E_{Ca})-\\overline{g_{L}}(v^{i}-E_{L})]$$\n",
    "\n",
    "$$n^{i+1}=n^{i}+\\Delta t[\\alpha_{n}(v^{i})(1-n^{i})-\\beta_{n}(v^{i})n^{i}]$$\n",
    "\n",
    "$$m^{i+1}=m^{i}+\\Delta t[\\alpha_{m}(v^{i})(1-m^{i})-\\beta_{m}(v^{i})m^{i}]$$\n",
    "\n",
    "$$h^{i+1}=h^{i}+\\Delta t[\\alpha_{h}(v^{i})(1-h^{i})-\\beta_{h}(v^{i})h^{i}]$$\n",
    "\n",
    "$$p^{i+1}=p^{i}+\\Delta t[\\frac{p_{\\infty}(v^{i})-p^{i}}{\\tau_{p}(v^{i})}]$$\n",
    "\n",
    "$$q^{i+1}=q^{i}+\\Delta t[\\alpha_{q}(v^{i})(1-q^{i})-\\beta_{q}(v^{i})q^{i}]$$\n",
    "\n",
    "$$r^{i+1}=r^{i}+\\Delta t[\\alpha_{r}(v^{i})(1-r^{i})-\\beta_{r}(v^{i})r^{i}]$$"
   ]
  },
  {
   "cell_type": "code",
   "execution_count": 6,
   "metadata": {},
   "outputs": [],
   "source": [
    "for i in range(0, step-1) :\n",
    "    \n",
    "    nt[i + 1] = nt[i] + delta_t * (alpha_n(Vt[i]) * (1.0 - nt[i]) - beta_n(Vt[i]) * nt[i])\n",
    "    mt[i + 1] = mt[i] + delta_t * (alpha_m(Vt[i]) * (1.0 - mt[i]) - beta_m(Vt[i]) * mt[i])\n",
    "    ht[i + 1] = ht[i] + delta_t * (alpha_h(Vt[i]) * (1.0 - ht[i]) - beta_h(Vt[i]) * ht[i])\n",
    "    pt[i + 1] = pt[i] + delta_t * ((p_infty(Vt[i]) - pt[i]) / tau_p(Vt[i]))\n",
    "    qt[i + 1] = qt[i] + delta_t * (alpha_q(Vt[i]) * (1.0 - qt[i]) - beta_q(Vt[i]) * qt[i])\n",
    "    rt[i + 1] = rt[i] + delta_t * (alpha_r(Vt[i]) * (1.0 - rt[i]) - beta_r(Vt[i]) * rt[i])\n",
    "    Vt[i + 1] = Vt[i] + (delta_t/C_m) * (Id(i*delta_t)-g_Na * mt[i] ** 3 * ht[i] * (Vt[i]-E_Na) - g_K * nt[i] ** 4 * (Vt[i]-E_K)- g_Ca * qt[i]** 2 * rt[i] * (Vt[i] - E_Ca) - g_M * pt[i] * (Vt[i] - E_K) - g_L * (Vt[i]-E_L)) "
   ]
  },
  {
   "cell_type": "markdown",
   "metadata": {},
   "source": [
    "Ploteatu:"
   ]
  },
  {
   "cell_type": "code",
   "execution_count": 7,
   "metadata": {},
   "outputs": [
    {
     "data": {
      "text/plain": [
       "<Figure size 432x288 with 0 Axes>"
      ]
     },
     "metadata": {},
     "output_type": "display_data"
    },
    {
     "data": {
      "image/png": "[encoded data removed]",
      "text/plain": [
       "<Figure size 792x576 with 3 Axes>"
      ]
     },
     "metadata": {
      "needs_background": "light"
     },
     "output_type": "display_data"
    }
   ],
   "source": [
    "#################################  ### 00 ###\n",
    "\n",
    "plt.rc('text', usetex=True)\n",
    "\n",
    "#################################\n",
    "\n",
    "\n",
    "fig = plt.figure()\n",
    "\n",
    "plt.rcParams['axes.spines.right'] = False\n",
    "plt.rcParams['axes.spines.top'] = False\n",
    "\n",
    "#################################  ### 01 ###\n",
    "fontsize = 25\n",
    "labelsize = 20\n",
    "#################################\n",
    "\n",
    "fig, ax1 = plt.subplots(figsize=(11, 8))\n",
    "ax1 = plt.subplot(212)\n",
    "ax1.set_xlim(0,400)\n",
    "ax1.set_ylim(-70,45)\n",
    "ax1.plot(t_eremua, Vt)\n",
    "ax1.set_xlabel(r'$t \\textrm{ (ms)}$',fontsize=fontsize)\n",
    "ax1.set_ylabel(r'$V_{m} \\textrm{ (mV)}$',fontsize=fontsize)\n",
    "left, bottom, width, height = (25, -70, 100, 115)\n",
    "rect=mpatches.Rectangle((left,bottom),width,height, \n",
    "                        fill=False,\n",
    "                        color=\"red\",\n",
    "                       linewidth=2)\n",
    "                       #facecolor=\"red\")\n",
    "plt.gca().add_patch(rect)\n",
    "left, bottom, width, height = (280, -70, 100, 115)\n",
    "rect=mpatches.Rectangle((left,bottom),width,height, \n",
    "                        fill=False,\n",
    "                        color=\"red\",\n",
    "                       linewidth=2)\n",
    "                       #facecolor=\"red\")\n",
    "plt.gca().add_patch(rect)\n",
    "\n",
    "ax2 = plt.subplot(221)\n",
    "ax2.set_xlim(25,125)\n",
    "ax2.plot(t_eremua, Vt)\n",
    "ax2.set_ylabel(r'$V_{m}\\textrm{ (mV)}$',fontsize=fontsize)\n",
    "fig, ax2.set_title(r'$\\textrm{Mintz-potentziala}$',fontsize=fontsize)\n",
    "\n",
    "ax3 = plt.subplot(222)\n",
    "ax3.set_xlim(280,380)\n",
    "ax3.plot(t_eremua, Vt)\n",
    "#ax3.set_ylabel(r'$V_{m} \\quad \\textrm{(mV)}$',fontsize=fontsize)\n",
    "fig, ax3.set_title(r'$\\textrm{Mintz-potentziala}$',fontsize=fontsize)\n",
    "\n",
    "######################################  ### 04 ###\n",
    "axes_fig = [ax1,ax2,ax3] # irudiak dazkanaren arabera\n",
    "\n",
    "for i in axes_fig:\n",
    "    i.tick_params(axis='y', labelsize=labelsize, pad=5, length=10);\n",
    "    i.tick_params(axis='x', labelsize=labelsize, pad=5, length=10);\n",
    "\n",
    "\n",
    "\n",
    "plt.savefig('IB_Eredua_Vm.pdf', format='pdf', dpi=180,bbox_inches=\"tight\")\n",
    "plt.show()"
   ]
  },
  {
   "cell_type": "code",
   "execution_count": null,
   "metadata": {},
   "outputs": [],
   "source": []
  }
 ],
 "metadata": {
  "kernelspec": {
   "display_name": "Python 3",
   "language": "python",
   "name": "python3"
  },
  "language_info": {
   "codemirror_mode": {
    "name": "ipython",
    "version": 3
   },
   "file_extension": ".py",
   "mimetype": "text/x-python",
   "name": "python",
   "nbconvert_exporter": "python",
   "pygments_lexer": "ipython3",
   "version": "3.8.3"
  }
 },
 "nbformat": 4,
 "nbformat_minor": 5
}
