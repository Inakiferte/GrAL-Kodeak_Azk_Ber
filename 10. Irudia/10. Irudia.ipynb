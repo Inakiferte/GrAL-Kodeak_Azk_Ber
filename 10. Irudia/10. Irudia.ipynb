{
 "cells": [
  {
   "cell_type": "markdown",
   "metadata": {},
   "source": [
    "H-H ereduarekin jarraitzen dugu irudi honetan.\n",
    "\n",
    "Erabiliko diren moduloak inportatu:"
   ]
  },
  {
   "cell_type": "code",
   "execution_count": 1,
   "metadata": {},
   "outputs": [],
   "source": [
    "import math\n",
    "import matplotlib.pyplot as plt\n",
    "import numpy as np\n",
    "import matplotlib.gridspec as gridspec"
   ]
  },
  {
   "cell_type": "markdown",
   "metadata": {},
   "source": [
    "Aldagaien Laburbilduma:\n",
    "\n",
    "|Aldagaia|Definizioa|Unitatea|\n",
    "|--------|-----------|-------|\n",
    "|$t_{max}$ |Simulazioa denbora maximoa|$ms$|\n",
    "|$\\Delta t$|Denboraren diskretizazioa |$ms$|\n",
    "|$C_{m}$   |Mintz kapazitatea         |$\\frac{\\mu F}{cm^{2}}$|\n",
    "|$E_{Na}$  |Inbertsio potentziala, sodio kanaletarako|$mV$|\n",
    "|$E_{K}$   |Inbertsio potentziala, potasio kanaletarako|$mV$|\n",
    "|$E_{L}$   |Inbertsi potentziala|$mV$|\n",
    "|$g_{Na}$  |Konduktantzia espezifikoa, sodio kanaletarako|$\\frac{mS}{cm^{2}}$|\n",
    "|$g_{K}$   |Konduktantzia espezifikoa, potasio kanaletarako|$\\frac{mS}{cm^{2}}$|\n",
    "|$g_{L}$   |Konduktantzia espezifikoa|$\\frac{mS}{cm^{2}}$|\n",
    "|$i_{mean}$|Batez-besteko intentsitate bat finkatu|$$\\frac{\\mu A}{cm^{2}}$$|\n",
    "|$V_{rest}$|Egoera egonkorreko mintz potentziala|$mV$|"
   ]
  },
  {
   "cell_type": "code",
   "execution_count": 2,
   "metadata": {},
   "outputs": [],
   "source": [
    "t_max=200    #msegundu, Simulazio denbora osoa\n",
    "delta_t=0.01   #msegundu, Diskretizazio denbora\n",
    "C_m=0.01       #micro F/cm^2\n",
    "E_Na=55.17     # mV\n",
    "E_K=-72.14     # mV\n",
    "E_L=-49.42     # mV\n",
    "g_Na=1.2       # mS/cm^2\n",
    "g_K=0.36      # mS/cm^2\n",
    "g_L=0.003     # mS/cm^2\n",
    "i_mean=0.1    # microA/cm^2\n",
    "V_rest=-60.0   # mV\n",
    "##########################"
   ]
  },
  {
   "cell_type": "markdown",
   "metadata": {},
   "source": [
    "Erabiliko diren funtzio laguntzaileak:\n",
    "\n",
    "$$\\alpha_{n}=\\frac{0.01(v+50)}{1-exp(\\frac{-(v+50)}{10})}$$\n",
    "\n",
    "$$\\beta_{n}=0.125exp(\\frac{-(v+60)}{80})$$\n",
    "\n",
    "$$\\alpha_{m}=\\frac{0.1(v+35)}{1-exp(\\frac{-(v+35)}{10})}$$\n",
    "\n",
    "$$\\beta_{m}=4.0exp(-0.0556(v+60))$$\n",
    "\n",
    "$$\\alpha_{h}=0.07exp(-0.05(v+60))$$\n",
    "\n",
    "$$\\beta_{h}=\\frac{1}{1+exp(-0.1(v+30))}$$"
   ]
  },
  {
   "cell_type": "code",
   "execution_count": 3,
   "metadata": {},
   "outputs": [],
   "source": [
    "#sarrera mvolt-etan izan behar da\n",
    "def alpha_n(v):\n",
    "    return 0.01*(v+50.0)/(1.0-np.exp(-(v+50.0)/10.0))\n",
    "\n",
    "def beta_n(v):\n",
    "    return 0.125*np.exp(-(v+60.0)/80.0)\n",
    "\n",
    "def alpha_m(v):\n",
    "    return 0.1*(v+35.0)/(1.0-np.exp(-(v+35.0)/10.0))\n",
    "\n",
    "def beta_m(v):\n",
    "    return 4.0*np.exp(-0.0556*(v+60.0))\n",
    "\n",
    "def alpha_h(v):\n",
    "    return 0.07*np.exp(-0.05*(v+60.0))\n",
    "\n",
    "def beta_h(v):\n",
    "    return 1/(1+np.exp(-0.1*(v+30.0)))"
   ]
  },
  {
   "cell_type": "markdown",
   "metadata": {},
   "source": [
    "Bektoreak finkatu:"
   ]
  },
  {
   "cell_type": "code",
   "execution_count": 4,
   "metadata": {},
   "outputs": [],
   "source": [
    "#Denbora eremu osoa finkatzen dugu. 0 s-tik hasiz, delta_t diskretizazio denbora aldiunez t_max aldiunerarte\n",
    "t_eremua=np.arange(0,t_max,delta_t)\n",
    "#Luzera finkatu\n",
    "step=len(t_eremua)\n",
    "\n",
    "#Vt bektorea finkatu\n",
    "Vt=np.ones([step])\n",
    "\n",
    "#Fase espaziorako bektoreaa finkatu\n",
    "V_dot=np.ones([step])\n",
    "\n",
    "#nt, mt, ht bektoreak finkatu\n",
    "nt=np.ones([step])\n",
    "mt=np.ones([step])\n",
    "ht=np.ones([step])\n",
    "\n",
    "#Fase espaziorako bektoreak finkatu\n",
    "n_dot=np.ones([step])\n",
    "m_dot=np.ones([step])\n",
    "h_dot=np.ones([step])\n",
    "\n",
    "#Hasierako balioak finkatu#\n",
    "Vt[0]=V_rest\n",
    "nt[0]=alpha_n(V_rest) / (alpha_n(V_rest) + beta_n(V_rest))\n",
    "mt[0]=alpha_m(V_rest) / (alpha_m(V_rest) + beta_m(V_rest))\n",
    "ht[0]=alpha_h(V_rest) / (alpha_h(V_rest) + beta_h(V_rest))"
   ]
  },
  {
   "cell_type": "markdown",
   "metadata": {},
   "source": [
    "Erabiliko den intentsitatea definituko da. Linealki hasiko da. Funtziora sartzen den balioa, denbora izango da mili segundotan. i*delta_t=t izango dela kontuan hartu behar da."
   ]
  },
  {
   "cell_type": "code",
   "execution_count": 5,
   "metadata": {},
   "outputs": [],
   "source": [
    "def Id(t):\n",
    "    if t<=75:\n",
    "        return i_mean\n",
    "        \n",
    "    else:\n",
    "        return i_mean*1.5"
   ]
  },
  {
   "cell_type": "markdown",
   "metadata": {},
   "source": [
    "Ebatzi beharreko ekuazioa:\n",
    "\n",
    "$$\\frac{dv}{dt}=\\frac{1}{C_{m}}[I-g_{Na}m^{3}h(v-E_{Na})-g_{K}n^{4}(v-E_{K})-g_{L}(v-E_{L})]$$\n",
    "\n",
    "$$\\frac{dn}{dt}=\\alpha_{n}(v)(1-n)-\\beta_{n}(v)n$$\n",
    "\n",
    "$$\\frac{dm}{dt}=\\alpha_{m}(v)(1-m)-\\beta_{m}(v)m$$\n",
    "\n",
    "$$\\frac{dh}{dt}=\\alpha_{h}(v)(1-h)-\\beta_{h}(v)h$$"
   ]
  },
  {
   "cell_type": "markdown",
   "metadata": {},
   "source": [
    "Euler-en aurrerazko formula erabiliz diskretizazioa denboran egiteko:\n",
    "\n",
    "$$v^{i+1}=v^{i}+\\frac{\\Delta t}{C_{m}}[I^{i}-g_{Na}(m^{3})^{i}h^{i}(v^{i}-E_{Na})-g_{K}(n^{4})^{i}(v^{i}-E_{K})-g_{L}(v^{i}-E_{L})]$$\n",
    "\n",
    "$$n^{i+1}=n^{i}+\\Delta t[\\alpha_{n}(v^{i})(1-n^{i})-\\beta_{n}(v^{i})n^{i}]$$\n",
    "\n",
    "$$m^{i+1}=m^{i}+\\Delta t[\\alpha_{m}(v^{i})(1-m^{i})-\\beta_{m}(v^{i})m^{i}]$$\n",
    "\n",
    "$$h^{i+1}=h^{i}+\\Delta t[\\alpha_{h}(v^{i})(1-h^{i})-\\beta_{h}(v^{i})h^{i}]$$"
   ]
  },
  {
   "cell_type": "code",
   "execution_count": 6,
   "metadata": {},
   "outputs": [],
   "source": [
    "for i in range(0, step-1) :\n",
    "    mt[i + 1] = mt[i] + delta_t * (alpha_m(Vt[i]) * (1 - mt[i]) - beta_m(Vt[i]) * mt[i])\n",
    "    ht[i + 1] = ht[i] + delta_t * (alpha_h(Vt[i]) * (1 - ht[i]) - beta_h(Vt[i]) * ht[i])\n",
    "    nt[i + 1] = nt[i] + delta_t * (alpha_n(Vt[i]) * (1 - nt[i]) - beta_n(Vt[i]) * nt[i])\n",
    "    Vt[i + 1] = Vt[i] + (delta_t/C_m) * (Id(i*delta_t)-g_Na * mt[i] ** 3 * ht[i] * (Vt[i]-E_Na) - g_K * nt[i] ** 4 * (Vt[i]-E_K) - g_L * (Vt[i]-E_L)) \n"
   ]
  },
  {
   "cell_type": "markdown",
   "metadata": {},
   "source": [
    "Fase espazioa kalkulatu: $\\frac{dv}{dt}$ VS $v$ ; $\\frac{dn}{dt}$ VS $n$ ; $\\frac{dm}{dt}$ VS $m$ ; $\\frac{dh}{dt}$ VS $h$"
   ]
  },
  {
   "cell_type": "code",
   "execution_count": 7,
   "metadata": {},
   "outputs": [],
   "source": [
    "#Hasierako egoerak\n",
    "V_dot[0]= (Vt[1] - Vt[0]) / delta_t \n",
    "n_dot[0]= (nt[1] - nt[0]) / delta_t\n",
    "m_dot[0]= (mt[1] - mt[0]) / delta_t\n",
    "h_dot[0]= (ht[1] - ht[0]) / delta_t\n",
    "\n",
    "#Gainontzeko aldiuneak\n",
    "for i in range (0,step-1):\n",
    "    V_dot[i+1]= (Vt[i+1] - Vt[i]) / delta_t\n",
    "    n_dot[i+1]= (nt[i+1] - nt[i]) / delta_t\n",
    "    m_dot[i+1]= (mt[i+1] - mt[i]) / delta_t\n",
    "    h_dot[i+1]= (ht[i+1] - ht[i]) / delta_t"
   ]
  },
  {
   "cell_type": "markdown",
   "metadata": {},
   "source": [
    "Intentsitatearen plot-a egiteko erabiliko de bektorea definituko dugu jarraian. Gogoan izan i*delta_t=t"
   ]
  },
  {
   "cell_type": "code",
   "execution_count": 8,
   "metadata": {},
   "outputs": [],
   "source": [
    "I=i_mean*np.ones([step])\n",
    "for i in range (0,step):\n",
    "    I[i]=Id(i*delta_t)"
   ]
  },
  {
   "cell_type": "markdown",
   "metadata": {},
   "source": [
    "Ploteatu:"
   ]
  },
  {
   "cell_type": "code",
   "execution_count": 9,
   "metadata": {},
   "outputs": [
    {
     "data": {
      "text/plain": [
       "<Figure size 432x288 with 0 Axes>"
      ]
     },
     "metadata": {},
     "output_type": "display_data"
    },
    {
     "data": {
      "image/png": "[encoded data removed]",
      "text/plain": [
       "<Figure size 792x576 with 2 Axes>"
      ]
     },
     "metadata": {
      "needs_background": "light"
     },
     "output_type": "display_data"
    }
   ],
   "source": [
    "#################################  ### 00 ###\n",
    "\n",
    "plt.rc('text', usetex=True)\n",
    "\n",
    "#################################\n",
    "\n",
    "fig = plt.figure()\n",
    "\n",
    "#################################  ### 01 ###\n",
    "fontsize = 25\n",
    "labelsize = 20\n",
    "#################################\n",
    "\n",
    "fig, ax2 = plt.subplots(figsize=(11, 8))\n",
    "ax2 = plt.subplot(221)\n",
    "ax2.plot(Vt,V_dot)\n",
    "ax2.set_xlabel(r'$V_{m} \\quad \\textrm{(mV)}$',fontsize=fontsize)\n",
    "ax2.set_ylabel(r'$\\dot{V_{m}} \\quad \\textrm{(mV/ms)}$',fontsize=fontsize)\n",
    "ax2.set_title(r'$\\textrm{Mintz-potentziala} \\quad \\textrm{Fase-Espazioan}$',fontsize=fontsize)\n",
    "\n",
    "ax3 = plt.subplot(222)\n",
    "ax3.plot(t_eremua, I, 'r')\n",
    "plt.axis('off')\n",
    "\n",
    "######################################  ### 04 ###\n",
    "axes_fig = [ax2,ax3] # irudiak dazkanaren arabera\n",
    "\n",
    "for i in axes_fig:\n",
    "    i.tick_params(axis='y', labelsize=labelsize, pad=5, length=10);\n",
    "    i.tick_params(axis='x', labelsize=labelsize, pad=5, length=10);\n",
    "\n",
    "plt.savefig('H-H_Ereduko_Fase_Espazioa_Input_Pultsu_Karratua.pdf', format='pdf', dpi=180,bbox_inches=\"tight\")\n",
    "plt.show()\n"
   ]
  },
  {
   "cell_type": "code",
   "execution_count": null,
   "metadata": {},
   "outputs": [],
   "source": []
  }
 ],
 "metadata": {
  "kernelspec": {
   "display_name": "Python 3",
   "language": "python",
   "name": "python3"
  },
  "language_info": {
   "codemirror_mode": {
    "name": "ipython",
    "version": 3
   },
   "file_extension": ".py",
   "mimetype": "text/x-python",
   "name": "python",
   "nbconvert_exporter": "python",
   "pygments_lexer": "ipython3",
   "version": "3.8.3"
  }
 },
 "nbformat": 4,
 "nbformat_minor": 5
}
