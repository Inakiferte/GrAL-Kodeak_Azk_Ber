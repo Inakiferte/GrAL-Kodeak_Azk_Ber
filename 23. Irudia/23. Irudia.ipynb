{
 "cells": [
  {
   "cell_type": "markdown",
   "metadata": {},
   "source": [
    "RS eredua dugu kasu honetan.\n",
    "\n",
    "Erabiliko diren moduloak inportatu:"
   ]
  },
  {
   "cell_type": "code",
   "execution_count": 1,
   "metadata": {},
   "outputs": [],
   "source": [
    "import math\n",
    "import matplotlib.pyplot as plt\n",
    "import numpy as np\n",
    "import matplotlib.gridspec as gridspec\n",
    "import matplotlib.patches as mpatches"
   ]
  },
  {
   "cell_type": "markdown",
   "metadata": {},
   "source": [
    "Erabiliko diren aldagaien laburbilduma\n",
    "\n",
    "|Aldagaia|Definizioa|Unitatea|\n",
    "|--------|-----------|-------|\n",
    "|$t_{max}$ |Simulazioa denbora maximoa|$ms$|\n",
    "|$\\Delta t$|Denboraren diskretizazioa |$ms$|\n",
    "|$\\tau_{max}$ |Parametro esperimentala|$s$|\n",
    "|$C_{m}$   |Mintz kapazitatea         |$\\frac{\\mu F}{cm^{2}}$|\n",
    "|$E_{Na}$  |Inbertsio potentziala, sodio kanaletarako|$mV$|\n",
    "|$E_{K}$   |Inbertsio potentziala, potasio kanaletarako|$mV$|\n",
    "|$E_{L}$   |Inbertsi potentziala|$mV$|\n",
    "|$g_{Na}$  |Konduktantzia espezifikoa, sodio korronte azkarrerako|$\\frac{mS}{cm^{2}}$|\n",
    "|$g_{K}$   |Konduktantzia espezifikoa, potasio korronte iraukorrerako|$\\frac{mS}{cm^{2}}$|\n",
    "|$g_{M}$   |Konduktantzia espezifikoa, potasio korronte geldorako|$\\frac{mS}{cm^{2}}$|\n",
    "|$g_{L}$   |Konduktantzia espezifikoa|$\\frac{mS}{cm^{2}}$|\n",
    "|$i_{mean}$|Batez-besteko intentsitate bat finkatu|$\\frac{\\mu A}{cm^{2}}$|\n",
    "|$V_{rest}$|Egoera egonkorreko mintz potentziala|$mV$|\n",
    "|$V_{Th}$|Atari potentziala|$mV$|"
   ]
  },
  {
   "cell_type": "code",
   "execution_count": 2,
   "metadata": {},
   "outputs": [],
   "source": [
    "#Parametroak finkatu#####\n",
    "t_max=600      # ms\n",
    "delta_t=0.04   # ms\n",
    "tau_max=500.0  # ms\n",
    "C_m=3.14       # micro F/cm^2 (c_m/(L*d)=C_m)\n",
    "E_Na=50.00     # mV\n",
    "E_K=-90.00     # mV\n",
    "E_L=-70.00     # mV\n",
    "g_Na=50.0      # mS/cm^2\n",
    "g_K=5.0        # mS/cm^2\n",
    "g_M=0.07        # mS/cm^2\n",
    "g_L=0.1        # mS/cm^2\n",
    "i_mean=4.0     # microA/cm^2\n",
    "V_rest=-65.0   # mV\n",
    "v_th=-40.0     # mV\n",
    "##########################"
   ]
  },
  {
   "cell_type": "markdown",
   "metadata": {},
   "source": [
    "### Funtzio laguntzaileen inplementazioa\n",
    "\n",
    "$$\\alpha_{m}=\\frac{-0.32(v-v_{Th}-13)}{\\exp [-(v-v_{Th}-13)/4]-1}$$\n",
    "\n",
    "$$\\beta_{m}=\\frac{0.28(v-v_{Th}-40)}{\\exp [(v-v_{Th}-40)/5]-1}$$\n",
    "\n",
    "$$\\alpha_{h}=0.128\\exp [-(v-v_{Th}-17)/18]$$\n",
    "\n",
    "$$\\beta_{h}=\\frac{4}{1+ exp[-(v-v_{Th}-40)/5]}$$\n",
    "\n",
    "$$\\alpha_{n}=\\frac{-0.032(v-v_{Th}-15)}{\\exp [-(v-v_{Th}-15)/5]-1}$$\n",
    "\n",
    "$$\\beta_{n}=0.5 \\exp[-(v-v_{Th}-10)/40]$$\n",
    "\n",
    "$$p_{\\infty}(v)=\\frac{1}{1+\\exp[-(v+35)/10]}$$\n",
    "\n",
    "$$\\tau_{p}(v)=\\frac{\\tau_{max}}{3.3\\exp[(v+35)/20]+\\exp[-(v+35)/20]}$$"
   ]
  },
  {
   "cell_type": "code",
   "execution_count": 3,
   "metadata": {},
   "outputs": [],
   "source": [
    "def alpha_m(v):\n",
    "    return -0.32 * (v - v_th - 13.0) / (np.exp(-(v - v_th - 13.0) / 4.0) - 1.0)\n",
    "\n",
    "def beta_m(v):\n",
    "    return 0.28 * (v - v_th - 40.0) / (np.exp((v - v_th - 40.0) / 5.0) - 1.0)\n",
    "\n",
    "def alpha_h(v):\n",
    "    return 0.128 * np.exp(-(v - v_th - 17.0)/18.0)\n",
    "\n",
    "def beta_h(v):\n",
    "    return 4.0 / (1.0 + np.exp(-(v - v_th - 40.0) / 5.0))\n",
    "\n",
    "def alpha_n(v):\n",
    "    return -0.032 * (v - v_th - 15.0) / (np.exp(-(v - v_th - 15.0) / 5.0) - 1.0)\n",
    "\n",
    "def beta_n(v):\n",
    "    return 0.5 * np.exp(-(v - v_th - 10.0) / 40.0)\n",
    "\n",
    "def p_infty(v):\n",
    "    return 1.0 / (1.0 + np.exp(-(v + 35.0) / 10.0))\n",
    "\n",
    "def tau_p(v):\n",
    "    return tau_max / (3.3 * np.exp((v + 35.0) / 20.0) + np.exp(-(v + 35.0) / 20.0))\n"
   ]
  },
  {
   "cell_type": "markdown",
   "metadata": {},
   "source": [
    "### Bektoreak eta hasierako balioak finkatu"
   ]
  },
  {
   "cell_type": "code",
   "execution_count": 4,
   "metadata": {},
   "outputs": [],
   "source": [
    "#Denbora eremu osoa finkatzen dugu. 0 s-tik hasiz, delta_t diskretizazio denbora aldiunez t_max aldiunerarte\n",
    "t_eremua=np.arange(0,t_max,delta_t)\n",
    "#Luzera finkatu\n",
    "step=len(t_eremua)\n",
    "\n",
    "#Vt bektorea finkatu\n",
    "Vt=np.ones([step])\n",
    "\n",
    "#Fase espaziorako bektoreaa finkatu\n",
    "V_dot=np.ones([step])\n",
    "\n",
    "#nt, mt, ht bektoreak finkatu\n",
    "nt=np.ones([step])\n",
    "mt=np.ones([step])\n",
    "ht=np.ones([step])\n",
    "pt=np.ones([step])\n",
    "\n",
    "#Fase espaziorako bektoreak finkatu\n",
    "n_dot=np.ones([step])\n",
    "m_dot=np.ones([step])\n",
    "h_dot=np.ones([step])\n",
    "p_dot=np.ones([step])"
   ]
  },
  {
   "cell_type": "markdown",
   "metadata": {},
   "source": [
    "# Atari Intentsitatea\n",
    "\n",
    "Kode honetan RS neuronaren atari intentsitatea lortuko da. Honekin batera bi irudi adieraziko dira. Atari intentsitateak ematen duena eta hau baino pausu bat atzerago dagoen intentsitateak ematen duen mintz potentziala. Honetaroko intentsitatea gutxienaka handitzen joango da eta aldiuneren batean ekintza potentzial bat gauzatzen bada, atari potentziala lortu dela ondorioztatu ahalko da. Hala ere, lehenengo mintz potentzialari erlaxazio egoera bat lortzen utziko zaio. Hau da, $i_{e}=0.0$-rako $V_{t}$ lortzen joango gara. $V_{t}[i+1]-V_{t}[i]<\\epsilon$ bada, mintz potentziala erlaxatu dela esan dezakegu. Hau denbora aldiune batean emango da. Beraz hemendik aurrera atari intentsitatea bilatuko da."
   ]
  },
  {
   "cell_type": "markdown",
   "metadata": {},
   "source": [
    "### Gobernu ekuazioen ebazpena\n",
    "\n",
    "Euler-en aurrerazko formula erabiliz diskretizazioa denboran egiteko:\n",
    "\n",
    "$$v^{i+1}=v^{i}+\\frac{\\Delta t}{C_{m}}[I^{i}-\\overline{g_{Na}}(m^{3})^{i}h^{i}(v^{i}-E_{Na})-\\overline{g_{K}}(n^{4})^{i}(v^{i}-E_{K})-\\overline{g_{M}}p^{i}(v^{i}-E_{K})-\\overline{g_{L}}(v^{i}-E_{L})]$$\n",
    "\n",
    "$$n^{i+1}=n^{i}+\\Delta t[\\alpha_{n}(v^{i})(1-n^{i})-\\beta_{n}(v^{i})n^{i}]$$\n",
    "\n",
    "$$m^{i+1}=m^{i}+\\Delta t[\\alpha_{m}(v^{i})(1-m^{i})-\\beta_{m}(v^{i})m^{i}]$$\n",
    "\n",
    "$$h^{i+1}=h^{i}+\\Delta t[\\alpha_{h}(v^{i})(1-h^{i})-\\beta_{h}(v^{i})h^{i}]$$\n",
    "\n",
    "$$p^{i+1}=p^{i}+\\Delta t[\\frac{p_{\\infty}(v^{i})-p^{i}}{\\tau_{p}(v^{i})}]$$"
   ]
  },
  {
   "cell_type": "markdown",
   "metadata": {},
   "source": [
    "Lehenik erlaxazio egoera lortuko dugu:"
   ]
  },
  {
   "cell_type": "code",
   "execution_count": 5,
   "metadata": {},
   "outputs": [
    {
     "name": "stdout",
     "output_type": "stream",
     "text": [
      "Erlaxatu da 152.36 aldiunean\n"
     ]
    }
   ],
   "source": [
    "i_erlaxazio=0.0   # Ez da intentsitaterik erabiliko erlaxazio egoera aurkitzeko.\n",
    "eps=0.00001       # Erabiliko dugun zehaztasuna erlaxazioa bilatzeko.\n",
    "\n",
    "#Hasierako baldintzak\n",
    "Vt[0]=V_rest\n",
    "nt[0]=alpha_n(V_rest) / (alpha_n(V_rest) + beta_n(V_rest))\n",
    "mt[0]=alpha_m(V_rest) / (alpha_m(V_rest) + beta_m(V_rest))\n",
    "ht[0]=alpha_h(V_rest) / (alpha_h(V_rest) + beta_h(V_rest))\n",
    "pt[0]=p_infty(V_rest)\n",
    "#####################\n",
    "\n",
    "\n",
    "for i in range(0, step-1) :\n",
    "    mt[i + 1] = mt[i] + delta_t * (alpha_m(Vt[i]) * (1.0 - mt[i]) - beta_m(Vt[i]) * mt[i])\n",
    "    ht[i + 1] = ht[i] + delta_t * (alpha_h(Vt[i]) * (1.0 - ht[i]) - beta_h(Vt[i]) * ht[i])\n",
    "    nt[i + 1] = nt[i] + delta_t * (alpha_n(Vt[i]) * (1.0 - nt[i]) - beta_n(Vt[i]) * nt[i])\n",
    "    pt[i + 1] = pt[i] + delta_t * ((p_infty(Vt[i]) - pt[i]) / tau_p(Vt[i]))\n",
    "    Vt[i + 1] = Vt[i] + (delta_t/C_m) * (i_erlaxazio-g_Na * mt[i] ** 3 * ht[i] * (Vt[i]-E_Na) - g_K * nt[i] ** 4 * (Vt[i]-E_K)- g_M * pt[i] * (Vt[i] - E_K) - g_L * (Vt[i]-E_L)) \n",
    "    V_erlaxazio= Vt[i + 1] - Vt[i]\n",
    "    if abs(V_erlaxazio)<=eps:\n",
    "        print('Erlaxatu da', i * delta_t, 'aldiunean')\n",
    "        break"
   ]
  },
  {
   "cell_type": "markdown",
   "metadata": {},
   "source": [
    "Beraz, badakigu $t=152.36$ ms-an erlaxatu dela. Beraz, puntu honetatik aurrera atari intentsitatea lortuko dugu, honetarako honako intentsitate forma erabiliko dugu:"
   ]
  },
  {
   "cell_type": "code",
   "execution_count": 6,
   "metadata": {},
   "outputs": [],
   "source": [
    "def Ia(t):\n",
    "    if t>=152.36:\n",
    "        return 1.0\n",
    "    else:\n",
    "        return 0.0"
   ]
  },
  {
   "cell_type": "markdown",
   "metadata": {},
   "source": [
    "Forma honek ahalbidetzen digu $t>=152.36$ denean, intentsitatea sartzen hastea neuronari"
   ]
  },
  {
   "cell_type": "code",
   "execution_count": 7,
   "metadata": {},
   "outputs": [
    {
     "name": "stdout",
     "output_type": "stream",
     "text": [
      "Honako Intentsitatean goaz: 4.0 . Espero dena: 4.1XX\n",
      "Honako Intentsitatean goaz: 4.001 . Espero dena: 4.1XX\n",
      "Honako Intentsitatean goaz: 4.002 . Espero dena: 4.1XX\n",
      "Honako Intentsitatean goaz: 4.003 . Espero dena: 4.1XX\n",
      "Honako Intentsitatean goaz: 4.004 . Espero dena: 4.1XX\n",
      "Honako Intentsitatean goaz: 4.005 . Espero dena: 4.1XX\n",
      "Honako Intentsitatean goaz: 4.006 . Espero dena: 4.1XX\n",
      "Honako Intentsitatean goaz: 4.007 . Espero dena: 4.1XX\n",
      "Honako Intentsitatean goaz: 4.008 . Espero dena: 4.1XX\n",
      "Honako Intentsitatean goaz: 4.009 . Espero dena: 4.1XX\n",
      "Honako Intentsitatean goaz: 4.01 . Espero dena: 4.1XX\n",
      "Honako Intentsitatean goaz: 4.011 . Espero dena: 4.1XX\n",
      "Honako Intentsitatean goaz: 4.012 . Espero dena: 4.1XX\n",
      "Honako Intentsitatean goaz: 4.013 . Espero dena: 4.1XX\n",
      "Honako Intentsitatean goaz: 4.014 . Espero dena: 4.1XX\n",
      "Honako Intentsitatean goaz: 4.015 . Espero dena: 4.1XX\n",
      "Honako Intentsitatean goaz: 4.016 . Espero dena: 4.1XX\n",
      "Honako Intentsitatean goaz: 4.017 . Espero dena: 4.1XX\n",
      "Honako Intentsitatean goaz: 4.018 . Espero dena: 4.1XX\n",
      "Honako Intentsitatean goaz: 4.019 . Espero dena: 4.1XX\n",
      "Honako Intentsitatean goaz: 4.02 . Espero dena: 4.1XX\n",
      "Honako Intentsitatean goaz: 4.021 . Espero dena: 4.1XX\n",
      "Honako Intentsitatean goaz: 4.022 . Espero dena: 4.1XX\n",
      "Honako Intentsitatean goaz: 4.023 . Espero dena: 4.1XX\n",
      "Honako Intentsitatean goaz: 4.024 . Espero dena: 4.1XX\n",
      "Honako Intentsitatean goaz: 4.025 . Espero dena: 4.1XX\n",
      "Honako Intentsitatean goaz: 4.026 . Espero dena: 4.1XX\n",
      "Honako Intentsitatean goaz: 4.027 . Espero dena: 4.1XX\n",
      "Honako Intentsitatean goaz: 4.028 . Espero dena: 4.1XX\n",
      "Honako Intentsitatean goaz: 4.029 . Espero dena: 4.1XX\n",
      "Honako Intentsitatean goaz: 4.03 . Espero dena: 4.1XX\n",
      "Honako Intentsitatean goaz: 4.031 . Espero dena: 4.1XX\n",
      "Honako Intentsitatean goaz: 4.032 . Espero dena: 4.1XX\n",
      "Honako Intentsitatean goaz: 4.033 . Espero dena: 4.1XX\n",
      "Honako Intentsitatean goaz: 4.034 . Espero dena: 4.1XX\n",
      "Honako Intentsitatean goaz: 4.035 . Espero dena: 4.1XX\n",
      "Honako Intentsitatean goaz: 4.036 . Espero dena: 4.1XX\n",
      "Honako Intentsitatean goaz: 4.037 . Espero dena: 4.1XX\n",
      "Honako Intentsitatean goaz: 4.038 . Espero dena: 4.1XX\n",
      "Honako Intentsitatean goaz: 4.039 . Espero dena: 4.1XX\n",
      "Honako Intentsitatean goaz: 4.04 . Espero dena: 4.1XX\n",
      "Honako Intentsitatean goaz: 4.041 . Espero dena: 4.1XX\n",
      "Honako Intentsitatean goaz: 4.042 . Espero dena: 4.1XX\n",
      "Honako Intentsitatean goaz: 4.043 . Espero dena: 4.1XX\n",
      "Honako Intentsitatean goaz: 4.044 . Espero dena: 4.1XX\n",
      "Honako Intentsitatean goaz: 4.045 . Espero dena: 4.1XX\n",
      "Honako Intentsitatean goaz: 4.046 . Espero dena: 4.1XX\n",
      "Honako Intentsitatean goaz: 4.047 . Espero dena: 4.1XX\n",
      "Honako Intentsitatean goaz: 4.048 . Espero dena: 4.1XX\n",
      "Honako Intentsitatean goaz: 4.049 . Espero dena: 4.1XX\n",
      "Honako Intentsitatean goaz: 4.05 . Espero dena: 4.1XX\n",
      "Honako Intentsitatean goaz: 4.051 . Espero dena: 4.1XX\n",
      "Honako Intentsitatean goaz: 4.052 . Espero dena: 4.1XX\n",
      "Honako Intentsitatean goaz: 4.053 . Espero dena: 4.1XX\n",
      "Honako Intentsitatean goaz: 4.054 . Espero dena: 4.1XX\n",
      "Honako Intentsitatean goaz: 4.055 . Espero dena: 4.1XX\n",
      "Honako Intentsitatean goaz: 4.056 . Espero dena: 4.1XX\n",
      "Honako Intentsitatean goaz: 4.057 . Espero dena: 4.1XX\n",
      "Honako Intentsitatean goaz: 4.058 . Espero dena: 4.1XX\n",
      "Honako Intentsitatean goaz: 4.059 . Espero dena: 4.1XX\n",
      "Honako Intentsitatean goaz: 4.06 . Espero dena: 4.1XX\n",
      "Honako Intentsitatean goaz: 4.061 . Espero dena: 4.1XX\n",
      "Honako Intentsitatean goaz: 4.062 . Espero dena: 4.1XX\n",
      "Honako Intentsitatean goaz: 4.063 . Espero dena: 4.1XX\n",
      "Honako Intentsitatean goaz: 4.064 . Espero dena: 4.1XX\n",
      "Honako Intentsitatean goaz: 4.065 . Espero dena: 4.1XX\n",
      "Honako Intentsitatean goaz: 4.066 . Espero dena: 4.1XX\n",
      "Honako Intentsitatean goaz: 4.067 . Espero dena: 4.1XX\n",
      "Honako Intentsitatean goaz: 4.068 . Espero dena: 4.1XX\n",
      "Honako Intentsitatean goaz: 4.069 . Espero dena: 4.1XX\n",
      "Honako Intentsitatean goaz: 4.07 . Espero dena: 4.1XX\n",
      "Honako Intentsitatean goaz: 4.071 . Espero dena: 4.1XX\n",
      "Honako Intentsitatean goaz: 4.072 . Espero dena: 4.1XX\n",
      "Honako Intentsitatean goaz: 4.073 . Espero dena: 4.1XX\n",
      "Honako Intentsitatean goaz: 4.074 . Espero dena: 4.1XX\n",
      "Honako Intentsitatean goaz: 4.075 . Espero dena: 4.1XX\n",
      "Honako Intentsitatean goaz: 4.076 . Espero dena: 4.1XX\n",
      "Honako Intentsitatean goaz: 4.077 . Espero dena: 4.1XX\n",
      "Honako Intentsitatean goaz: 4.078 . Espero dena: 4.1XX\n",
      "Honako Intentsitatean goaz: 4.079 . Espero dena: 4.1XX\n",
      "Honako Intentsitatean goaz: 4.08 . Espero dena: 4.1XX\n",
      "Honako Intentsitatean goaz: 4.081 . Espero dena: 4.1XX\n",
      "Honako Intentsitatean goaz: 4.082 . Espero dena: 4.1XX\n",
      "Honako Intentsitatean goaz: 4.083 . Espero dena: 4.1XX\n",
      "Honako Intentsitatean goaz: 4.084 . Espero dena: 4.1XX\n",
      "Honako Intentsitatean goaz: 4.085 . Espero dena: 4.1XX\n",
      "Honako Intentsitatean goaz: 4.086 . Espero dena: 4.1XX\n",
      "Honako Intentsitatean goaz: 4.087 . Espero dena: 4.1XX\n",
      "Honako Intentsitatean goaz: 4.088 . Espero dena: 4.1XX\n",
      "Honako Intentsitatean goaz: 4.089 . Espero dena: 4.1XX\n",
      "Honako Intentsitatean goaz: 4.09 . Espero dena: 4.1XX\n",
      "Honako Intentsitatean goaz: 4.091 . Espero dena: 4.1XX\n",
      "Honako Intentsitatean goaz: 4.092 . Espero dena: 4.1XX\n",
      "Honako Intentsitatean goaz: 4.093 . Espero dena: 4.1XX\n",
      "Honako Intentsitatean goaz: 4.094 . Espero dena: 4.1XX\n",
      "Honako Intentsitatean goaz: 4.095 . Espero dena: 4.1XX\n",
      "Honako Intentsitatean goaz: 4.096 . Espero dena: 4.1XX\n",
      "Honako Intentsitatean goaz: 4.097 . Espero dena: 4.1XX\n",
      "Honako Intentsitatean goaz: 4.098 . Espero dena: 4.1XX\n",
      "Honako Intentsitatean goaz: 4.099 . Espero dena: 4.1XX\n",
      "Honako Intentsitatean goaz: 4.1 . Espero dena: 4.1XX\n",
      "Honako Intentsitatean goaz: 4.101 . Espero dena: 4.1XX\n",
      "Honako Intentsitatean goaz: 4.102 . Espero dena: 4.1XX\n",
      "Honako Intentsitatean goaz: 4.103 . Espero dena: 4.1XX\n",
      "Honako Intentsitatean goaz: 4.104 . Espero dena: 4.1XX\n",
      "Honako Intentsitatean goaz: 4.105 . Espero dena: 4.1XX\n",
      "Honako Intentsitatean goaz: 4.106 . Espero dena: 4.1XX\n",
      "Honako Intentsitatean goaz: 4.107 . Espero dena: 4.1XX\n",
      "Honako Intentsitatean goaz: 4.108 . Espero dena: 4.1XX\n",
      "Honako Intentsitatean goaz: 4.109 . Espero dena: 4.1XX\n",
      "Honako Intentsitatean goaz: 4.11 . Espero dena: 4.1XX\n",
      "Honako Intentsitatean goaz: 4.111 . Espero dena: 4.1XX\n",
      "Honako Intentsitatean goaz: 4.112 . Espero dena: 4.1XX\n",
      "Honako Intentsitatean goaz: 4.113 . Espero dena: 4.1XX\n",
      "Honako Intentsitatean goaz: 4.114 . Espero dena: 4.1XX\n",
      "Honako Intentsitatean goaz: 4.115 . Espero dena: 4.1XX\n",
      "Honako Intentsitatean goaz: 4.116 . Espero dena: 4.1XX\n",
      "Honako Intentsitatean goaz: 4.117 . Espero dena: 4.1XX\n",
      "Honako Intentsitatean goaz: 4.118 . Espero dena: 4.1XX\n",
      "Honako Intentsitatean goaz: 4.119 . Espero dena: 4.1XX\n",
      "Honako Intentsitatean goaz: 4.12 . Espero dena: 4.1XX\n",
      "Honako Intentsitatean goaz: 4.121 . Espero dena: 4.1XX\n",
      "Honako Intentsitatean goaz: 4.122 . Espero dena: 4.1XX\n",
      "Honako Intentsitatean goaz: 4.123 . Espero dena: 4.1XX\n",
      "Honako Intentsitatean goaz: 4.124 . Espero dena: 4.1XX\n",
      "Honako Intentsitatean goaz: 4.125 . Espero dena: 4.1XX\n",
      "Honako Intentsitatean goaz: 4.126 . Espero dena: 4.1XX\n",
      "Honako Intentsitatean goaz: 4.127 . Espero dena: 4.1XX\n",
      "Honako Intentsitatean goaz: 4.128 . Espero dena: 4.1XX\n",
      "Honako Intentsitatean goaz: 4.129 . Espero dena: 4.1XX\n",
      "Honako Intentsitatean goaz: 4.13 . Espero dena: 4.1XX\n",
      "Honako Intentsitatean goaz: 4.131 . Espero dena: 4.1XX\n",
      "Honako Intentsitatean goaz: 4.132 . Espero dena: 4.1XX\n",
      "Honako Intentsitatean goaz: 4.133 . Espero dena: 4.1XX\n",
      "Honako Intentsitatean goaz: 4.134 . Espero dena: 4.1XX\n",
      "Honako Intentsitatean goaz: 4.135 . Espero dena: 4.1XX\n",
      "Honako Intentsitatean goaz: 4.136 . Espero dena: 4.1XX\n",
      "Honako Intentsitatean goaz: 4.1370000000000005 . Espero dena: 4.1XX\n",
      "Honako Intentsitatean goaz: 4.138 . Espero dena: 4.1XX\n",
      "Honako Intentsitatean goaz: 4.139 . Espero dena: 4.1XX\n",
      "Honako Intentsitatean goaz: 4.14 . Espero dena: 4.1XX\n",
      "Honako Intentsitatean goaz: 4.141 . Espero dena: 4.1XX\n",
      "Honako Intentsitatean goaz: 4.142 . Espero dena: 4.1XX\n",
      "Honako Intentsitatean goaz: 4.143 . Espero dena: 4.1XX\n",
      "Honako Intentsitatean goaz: 4.144 . Espero dena: 4.1XX\n",
      "Honako Intentsitatean goaz: 4.145 . Espero dena: 4.1XX\n",
      "Honako Intentsitatean goaz: 4.146 . Espero dena: 4.1XX\n",
      "Honako Intentsitatean goaz: 4.147 . Espero dena: 4.1XX\n",
      "Honako Intentsitatean goaz: 4.148 . Espero dena: 4.1XX\n",
      "Honako Intentsitatean goaz: 4.149 . Espero dena: 4.1XX\n"
     ]
    },
    {
     "name": "stdout",
     "output_type": "stream",
     "text": [
      "Honako Intentsitatean goaz: 4.15 . Espero dena: 4.1XX\n",
      "Honako Intentsitatean goaz: 4.151 . Espero dena: 4.1XX\n",
      "Honako Intentsitatean goaz: 4.152 . Espero dena: 4.1XX\n",
      "Honako Intentsitatean goaz: 4.153 . Espero dena: 4.1XX\n",
      "Honako Intentsitatean goaz: 4.154 . Espero dena: 4.1XX\n",
      "Honako Intentsitatean goaz: 4.155 . Espero dena: 4.1XX\n",
      "Honako Intentsitatean goaz: 4.156 . Espero dena: 4.1XX\n",
      "Honako Intentsitatean goaz: 4.157 . Espero dena: 4.1XX\n",
      "Honako Intentsitatean goaz: 4.158 . Espero dena: 4.1XX\n",
      "Honako Intentsitatean goaz: 4.159 . Espero dena: 4.1XX\n",
      "Honako Intentsitatean goaz: 4.16 . Espero dena: 4.1XX\n",
      "Honako Intentsitatean goaz: 4.161 . Espero dena: 4.1XX\n",
      "Honako Intentsitatean goaz: 4.162 . Espero dena: 4.1XX\n",
      "Honako Intentsitatean goaz: 4.163 . Espero dena: 4.1XX\n",
      "Honako Intentsitatean goaz: 4.164 . Espero dena: 4.1XX\n",
      "Atari intentsitatea honako hau da:\n",
      "4.164\n"
     ]
    }
   ],
   "source": [
    "i_atari=0.0  #Atari intentsitatea\n",
    "stop=0       #Ekintza potentziala ematen deneko aldagaia loop-aren break-a emateko\n",
    "for k in range (0,100000):\n",
    "    #Hasierako balioak finkatu#\n",
    "    Vt[0]=V_rest\n",
    "    nt[0]=alpha_n(V_rest) / (alpha_n(V_rest) + beta_n(V_rest))\n",
    "    mt[0]=alpha_m(V_rest) / (alpha_m(V_rest) + beta_m(V_rest))\n",
    "    ht[0]=alpha_h(V_rest) / (alpha_h(V_rest) + beta_h(V_rest))\n",
    "    pt[0]=p_infty(V_rest)\n",
    "    I= i_mean +0.001*k\n",
    "    print('Honako Intentsitatean goaz:', I, '. Espero dena: 4.1XX')\n",
    "    for i in range(0, step-1) :\n",
    "        mt[i + 1] = mt[i] + delta_t * (alpha_m(Vt[i]) * (1.0 - mt[i]) - beta_m(Vt[i]) * mt[i])\n",
    "        ht[i + 1] = ht[i] + delta_t * (alpha_h(Vt[i]) * (1.0 - ht[i]) - beta_h(Vt[i]) * ht[i])\n",
    "        nt[i + 1] = nt[i] + delta_t * (alpha_n(Vt[i]) * (1.0 - nt[i]) - beta_n(Vt[i]) * nt[i])\n",
    "        pt[i + 1] = pt[i] + delta_t * ((p_infty(Vt[i]) - pt[i]) / tau_p(Vt[i]))\n",
    "        Vt[i + 1] = Vt[i] + (delta_t/C_m) * (I * Ia(i*delta_t)-g_Na * mt[i] ** 3 * ht[i] * (Vt[i]-E_Na) - g_K * nt[i] ** 4 * (Vt[i]-E_K)- g_M * pt[i] * (Vt[i] - E_K) - g_L * (Vt[i]-E_L)) \n",
    "        if Vt[i + 1]>=0.0: #Ekintza potentziala ematen bada stop=1 lortzen da\n",
    "            stop=1\n",
    "            i_atari=I\n",
    "            print('Atari intentsitatea honako hau da:')\n",
    "            print(I)\n",
    "            break\n",
    "    if stop==1:\n",
    "        break"
   ]
  },
  {
   "cell_type": "code",
   "execution_count": 8,
   "metadata": {},
   "outputs": [
    {
     "name": "stdout",
     "output_type": "stream",
     "text": [
      "Atari intentsitatea honako hau da:\n",
      "4.164\n"
     ]
    }
   ],
   "source": [
    "print('Atari intentsitatea honako hau da:')\n",
    "print(i_atari)"
   ]
  },
  {
   "cell_type": "markdown",
   "metadata": {},
   "source": [
    "Hemen lortu den atari intentsitatearekin eta bere aurreko pausuko intentsitatearekin, mintz potentzialaren bi ezbazpenak egingo dira"
   ]
  },
  {
   "cell_type": "markdown",
   "metadata": {},
   "source": [
    "# Atari Intentsitatearen eta Honen Aurreko Pausuaren Irudiak"
   ]
  },
  {
   "cell_type": "code",
   "execution_count": 9,
   "metadata": {},
   "outputs": [],
   "source": [
    "Vt_bai=np.ones([step]) #Ekintza potentziala emango deneko mintz potentziala\n",
    "Vt_ez=np.ones([step])  #Ekintza potentziala emango ez deneko mintz potentziala\n",
    "V_dot_bai=np.ones([step])\n",
    "V_dot_ez=np.ones([step])\n",
    "\n",
    "for k in range (0, 2):\n",
    "    Vt[0]=V_rest\n",
    "    nt[0]=alpha_n(V_rest) / (alpha_n(V_rest) + beta_n(V_rest))\n",
    "    mt[0]=alpha_m(V_rest) / (alpha_m(V_rest) + beta_m(V_rest))\n",
    "    ht[0]=alpha_h(V_rest) / (alpha_h(V_rest) + beta_h(V_rest))\n",
    "    pt[0]=p_infty(V_rest)\n",
    "    I=i_atari - k*0.001\n",
    "    for i in range(0, step-1) :\n",
    "        mt[i + 1] = mt[i] + delta_t * (alpha_m(Vt[i]) * (1.0 - mt[i]) - beta_m(Vt[i]) * mt[i])\n",
    "        ht[i + 1] = ht[i] + delta_t * (alpha_h(Vt[i]) * (1.0 - ht[i]) - beta_h(Vt[i]) * ht[i])\n",
    "        nt[i + 1] = nt[i] + delta_t * (alpha_n(Vt[i]) * (1.0 - nt[i]) - beta_n(Vt[i]) * nt[i])\n",
    "        pt[i + 1] = pt[i] + delta_t * ((p_infty(Vt[i]) - pt[i]) / tau_p(Vt[i]))\n",
    "        Vt[i + 1] = Vt[i] + (delta_t/C_m) * (I * Ia(i * delta_t)-g_Na * mt[i] ** 3 * ht[i] * (Vt[i]-E_Na) - g_K * nt[i] ** 4 * (Vt[i]-E_K)- g_M * pt[i] * (Vt[i] - E_K) - g_L * (Vt[i]-E_L)) \n",
    "    if k==0:\n",
    "        for i in range (0,step): #I=i_atari -> ekintza potentziala bai\n",
    "            Vt_bai[i]=Vt[i]\n",
    "            V_dot_bai[i]=V_dot[i]\n",
    "            \n",
    "    if k==1:\n",
    "        for i in range(0,step): # I=i_atari-0.01 -> ekintza potentziala ez\n",
    "            Vt_ez[i]=Vt[i]\n",
    "            V_dot_ez[i]=V_dot[i]"
   ]
  },
  {
   "cell_type": "markdown",
   "metadata": {},
   "source": [
    "Ploteatu:"
   ]
  },
  {
   "cell_type": "code",
   "execution_count": 12,
   "metadata": {},
   "outputs": [
    {
     "data": {
      "text/plain": [
       "<Figure size 432x288 with 0 Axes>"
      ]
     },
     "metadata": {},
     "output_type": "display_data"
    },
    {
     "data": {
      "image/png": "[encoded data removed]",
      "text/plain": [
       "<Figure size 792x576 with 2 Axes>"
      ]
     },
     "metadata": {
      "needs_background": "light"
     },
     "output_type": "display_data"
    }
   ],
   "source": [
    "#################################  ### 00 ###\n",
    "\n",
    "plt.rc('text', usetex=True)\n",
    "\n",
    "#################################\n",
    "\n",
    "fig = plt.figure()\n",
    "\n",
    "plt.rcParams['axes.spines.right'] = False\n",
    "plt.rcParams['axes.spines.top'] = False\n",
    "\n",
    "#################################  ### 01 ###\n",
    "fontsize = 25\n",
    "labelsize = 20\n",
    "#################################\n",
    "\n",
    "fig, ax2 = plt.subplots(figsize=(11, 8))\n",
    "\n",
    "ax2 = plt.subplot(221)\n",
    "ax2.plot(t_eremua, Vt_bai, 'r', label=r'$i_{e}=4.164$')\n",
    "ax2.set_ylabel(r'$V_{m} \\textrm{ (mV)}$',fontsize=fontsize)\n",
    "ax2.set_xlabel(r'$t  \\textrm{ (ms)}$',fontsize=fontsize)\n",
    "ax2.set_xlim(152.36,t_max)\n",
    "ax2.set_ylim(-80,50)\n",
    "fig, ax2.set_title(r'$\\textrm{Mintz-potentziala}$',fontsize=fontsize)\n",
    "\n",
    "ax2.legend(bbox_transform=ax2.transData, bbox_to_anchor=(400, 45), ncol=1, borderaxespad=0, \n",
    "             frameon=False, fontsize=15)\n",
    "\n",
    "\n",
    "ax3 = plt.subplot(222)\n",
    "ax3.plot(t_eremua, Vt_ez, 'g', label=r'$i_{e}=4.163$')\n",
    "#ax3.set_ylabel('$V_{m}$ (mV)',fontsize=15)\n",
    "ax3.set_xlabel(r'$t  \\textrm{ (ms)}$',fontsize=fontsize)\n",
    "ax3.set_xlim(152.36,t_max)\n",
    "ax3.set_ylim(-80,50)\n",
    "fig, ax3.set_title(r'$\\textrm{Mintz-potentziala}$',fontsize=fontsize)\n",
    "\n",
    "ax3.legend(bbox_transform=ax3.transData, bbox_to_anchor=(600, 45), ncol=1, borderaxespad=0, \n",
    "             frameon=False, fontsize=15)\n",
    "\n",
    "\n",
    "######################################  ### 04 ###\n",
    "axes_fig = [ax2,ax3] # irudiak dazkanaren arabera\n",
    "\n",
    "for i in axes_fig:\n",
    "    i.tick_params(axis='y', labelsize=labelsize, pad=5, length=10);\n",
    "    i.tick_params(axis='x', labelsize=labelsize, pad=5, length=10);\n",
    "\n",
    "plt.savefig('RS_Eredua_Atari_Intentsitatea.pdf', format='pdf', dpi=180,bbox_inches=\"tight\")"
   ]
  },
  {
   "cell_type": "code",
   "execution_count": null,
   "metadata": {},
   "outputs": [],
   "source": []
  }
 ],
 "metadata": {
  "kernelspec": {
   "display_name": "Python 3",
   "language": "python",
   "name": "python3"
  },
  "language_info": {
   "codemirror_mode": {
    "name": "ipython",
    "version": 3
   },
   "file_extension": ".py",
   "mimetype": "text/x-python",
   "name": "python",
   "nbconvert_exporter": "python",
   "pygments_lexer": "ipython3",
   "version": "3.8.3"
  }
 },
 "nbformat": 4,
 "nbformat_minor": 5
}
